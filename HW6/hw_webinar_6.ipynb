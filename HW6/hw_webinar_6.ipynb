{
 "cells": [
  {
   "cell_type": "markdown",
   "metadata": {
    "id": "nMBdGcvjC4Ji"
   },
   "source": [
    "# Вебинар 6. Двухуровневые модели рекомендаций\n"
   ]
  },
  {
   "cell_type": "markdown",
   "metadata": {
    "id": "3Jgaacz0C4Jl"
   },
   "source": [
    "Код для src, utils, metrics вы можете скачать из [этого](https://github.com/geangohn/recsys-tutorial) github репозитория"
   ]
  },
  {
   "cell_type": "code",
   "execution_count": 1,
   "metadata": {
    "id": "5Aur99NsC4Jm",
    "outputId": "9b9a338b-a52f-4253-9694-ac431b62eefc"
   },
   "outputs": [],
   "source": [
    "import pandas as pd\n",
    "import numpy as np\n",
    "import matplotlib.pyplot as plt\n",
    "%matplotlib inline\n",
    "\n",
    "# Для работы с матрицами\n",
    "from scipy.sparse import csr_matrix\n",
    "\n",
    "# Матричная факторизация\n",
    "from implicit import als\n",
    "\n",
    "# Модель второго уровня\n",
    "from lightgbm import LGBMClassifier\n",
    "\n",
    "# Написанные нами функции\n",
    "from src.metrics import precision_at_k, recall_at_k\n",
    "from src.utils import prefilter_items\n",
    "from src.recommenders import MainRecommender"
   ]
  },
  {
   "cell_type": "code",
   "execution_count": 2,
   "metadata": {
    "id": "vso_erSdC4Jo",
    "outputId": "da20dbf1-3086-4fd6-ac92-f7653d7f9f71"
   },
   "outputs": [
    {
     "data": {
      "text/html": [
       "<div>\n",
       "<style scoped>\n",
       "    .dataframe tbody tr th:only-of-type {\n",
       "        vertical-align: middle;\n",
       "    }\n",
       "\n",
       "    .dataframe tbody tr th {\n",
       "        vertical-align: top;\n",
       "    }\n",
       "\n",
       "    .dataframe thead th {\n",
       "        text-align: right;\n",
       "    }\n",
       "</style>\n",
       "<table border=\"1\" class=\"dataframe\">\n",
       "  <thead>\n",
       "    <tr style=\"text-align: right;\">\n",
       "      <th></th>\n",
       "      <th>user_id</th>\n",
       "      <th>basket_id</th>\n",
       "      <th>day</th>\n",
       "      <th>item_id</th>\n",
       "      <th>quantity</th>\n",
       "      <th>sales_value</th>\n",
       "      <th>store_id</th>\n",
       "      <th>retail_disc</th>\n",
       "      <th>trans_time</th>\n",
       "      <th>week_no</th>\n",
       "      <th>coupon_disc</th>\n",
       "      <th>coupon_match_disc</th>\n",
       "    </tr>\n",
       "  </thead>\n",
       "  <tbody>\n",
       "    <tr>\n",
       "      <th>0</th>\n",
       "      <td>2375</td>\n",
       "      <td>26984851472</td>\n",
       "      <td>1</td>\n",
       "      <td>1004906</td>\n",
       "      <td>1</td>\n",
       "      <td>1.39</td>\n",
       "      <td>364</td>\n",
       "      <td>-0.6</td>\n",
       "      <td>1631</td>\n",
       "      <td>1</td>\n",
       "      <td>0.0</td>\n",
       "      <td>0.0</td>\n",
       "    </tr>\n",
       "    <tr>\n",
       "      <th>1</th>\n",
       "      <td>2375</td>\n",
       "      <td>26984851472</td>\n",
       "      <td>1</td>\n",
       "      <td>1033142</td>\n",
       "      <td>1</td>\n",
       "      <td>0.82</td>\n",
       "      <td>364</td>\n",
       "      <td>0.0</td>\n",
       "      <td>1631</td>\n",
       "      <td>1</td>\n",
       "      <td>0.0</td>\n",
       "      <td>0.0</td>\n",
       "    </tr>\n",
       "  </tbody>\n",
       "</table>\n",
       "</div>"
      ],
      "text/plain": [
       "   user_id    basket_id  day  item_id  quantity  sales_value  store_id  \\\n",
       "0     2375  26984851472    1  1004906         1         1.39       364   \n",
       "1     2375  26984851472    1  1033142         1         0.82       364   \n",
       "\n",
       "   retail_disc  trans_time  week_no  coupon_disc  coupon_match_disc  \n",
       "0         -0.6        1631        1          0.0                0.0  \n",
       "1          0.0        1631        1          0.0                0.0  "
      ]
     },
     "execution_count": 2,
     "metadata": {},
     "output_type": "execute_result"
    }
   ],
   "source": [
    "data = pd.read_csv('data/retail_train.csv')\n",
    "item_features = pd.read_csv('data/product.csv')\n",
    "user_features = pd.read_csv('data/hh_demographic.csv')\n",
    "\n",
    "# column processing\n",
    "item_features.columns = [col.lower() for col in item_features.columns]\n",
    "user_features.columns = [col.lower() for col in user_features.columns]\n",
    "\n",
    "item_features.rename(columns={'product_id': 'item_id'}, inplace=True)\n",
    "user_features.rename(columns={'household_key': 'user_id'}, inplace=True)\n",
    "\n",
    "\n",
    "# Важна схема обучения и валидации!\n",
    "# -- давние покупки -- | -- 6 недель -- | -- 3 недель -- \n",
    "# подобрать размер 2-ого датасета (6 недель) --> learning curve (зависимость метрики recall@k от размера датасета)\n",
    "val_lvl_1_size_weeks = 6\n",
    "val_lvl_2_size_weeks = 3\n",
    "\n",
    "data_train_lvl_1 = data[data['week_no'] < data['week_no'].max() - (val_lvl_1_size_weeks + val_lvl_2_size_weeks)]\n",
    "data_val_lvl_1 = data[(data['week_no'] >= data['week_no'].max() - (val_lvl_1_size_weeks + val_lvl_2_size_weeks)) &\n",
    "                      (data['week_no'] < data['week_no'].max() - (val_lvl_2_size_weeks))]\n",
    "\n",
    "data_train_lvl_2 = data_val_lvl_1.copy()  # Для наглядности. Далее мы добавим изменения, и они будут отличаться\n",
    "data_val_lvl_2 = data[data['week_no'] >= data['week_no'].max() - val_lvl_2_size_weeks]\n",
    "\n",
    "data_train_lvl_1.head(2)"
   ]
  },
  {
   "cell_type": "code",
   "execution_count": 3,
   "metadata": {
    "id": "zcnV3l4XC4Jp",
    "outputId": "d58f889c-0671-4bb9-b2b6-2dc2e8c24fce"
   },
   "outputs": [
    {
     "name": "stdout",
     "output_type": "stream",
     "text": [
      "Decreased # items from 83685 to 5001\n"
     ]
    }
   ],
   "source": [
    "n_items_before = data_train_lvl_1['item_id'].nunique()\n",
    "\n",
    "data_train_lvl_1 = prefilter_items(data_train_lvl_1, item_features=item_features, take_n_popular=5000)\n",
    "\n",
    "n_items_after = data_train_lvl_1['item_id'].nunique()\n",
    "print('Decreased # items from {} to {}'.format(n_items_before, n_items_after))"
   ]
  },
  {
   "cell_type": "code",
   "execution_count": 4,
   "metadata": {
    "colab": {
     "referenced_widgets": [
      "729d4287bb794971802d9da5e141f10a",
      "32375ef613474af6a0fcadb9255eb835"
     ]
    },
    "id": "zgYXRQ0lC4Jq",
    "outputId": "d9ea41ae-3b4d-41b4-fc46-90868ebb9894"
   },
   "outputs": [
    {
     "name": "stderr",
     "output_type": "stream",
     "text": [
      "WARNING:root:Intel MKL BLAS detected. Its highly recommend to set the environment variable 'export MKL_NUM_THREADS=1' to disable its internal multithreading\n"
     ]
    },
    {
     "data": {
      "application/vnd.jupyter.widget-view+json": {
       "model_id": "9c9d1ef63f9047cdaaa6dca83ee1869f",
       "version_major": 2,
       "version_minor": 0
      },
      "text/plain": [
       "HBox(children=(FloatProgress(value=0.0, max=15.0), HTML(value='')))"
      ]
     },
     "metadata": {},
     "output_type": "display_data"
    },
    {
     "name": "stdout",
     "output_type": "stream",
     "text": [
      "\n"
     ]
    },
    {
     "data": {
      "application/vnd.jupyter.widget-view+json": {
       "model_id": "587fcecbd46f4f1f99d356fdf14e1d39",
       "version_major": 2,
       "version_minor": 0
      },
      "text/plain": [
       "HBox(children=(FloatProgress(value=0.0, max=5001.0), HTML(value='')))"
      ]
     },
     "metadata": {},
     "output_type": "display_data"
    },
    {
     "name": "stdout",
     "output_type": "stream",
     "text": [
      "\n"
     ]
    }
   ],
   "source": [
    "recommender = MainRecommender(data_train_lvl_1)"
   ]
  },
  {
   "cell_type": "code",
   "execution_count": 5,
   "metadata": {
    "id": "xB9JX5swC4Jr",
    "outputId": "af05502b-1fb9-42b6-919c-b915ac3a0106"
   },
   "outputs": [
    {
     "data": {
      "text/plain": [
       "[871756, 899624, 925862, 1044078, 1106523]"
      ]
     },
     "execution_count": 5,
     "metadata": {},
     "output_type": "execute_result"
    }
   ],
   "source": [
    "recommender.get_als_recommendations(2375, N=5)"
   ]
  },
  {
   "cell_type": "code",
   "execution_count": 6,
   "metadata": {
    "id": "PNVa6jWLC4Jr",
    "outputId": "c69395e4-8171-41f1-c0c4-067b582f26e0"
   },
   "outputs": [
    {
     "data": {
      "text/plain": [
       "[948640, 918046, 847962, 907099, 873980]"
      ]
     },
     "execution_count": 6,
     "metadata": {},
     "output_type": "execute_result"
    }
   ],
   "source": [
    "recommender.get_own_recommendations(2375, N=5)"
   ]
  },
  {
   "cell_type": "code",
   "execution_count": 7,
   "metadata": {
    "id": "0NoB_lSJC4Js",
    "outputId": "9f91a42c-08bf-4037-fca1-54db5a5cafee"
   },
   "outputs": [
    {
     "data": {
      "text/plain": [
       "[1046545, 1044078, 1042907, 842125, 15778319]"
      ]
     },
     "execution_count": 7,
     "metadata": {},
     "output_type": "execute_result"
    }
   ],
   "source": [
    "recommender.get_similar_items_recommendation(2375, N=5)"
   ]
  },
  {
   "cell_type": "code",
   "execution_count": 8,
   "metadata": {
    "id": "GdQO5CWKC4Js",
    "outputId": "08936fbf-715f-412a-9fbe-065816bb6a90"
   },
   "outputs": [
    {
     "data": {
      "text/plain": [
       "[1012801, 1026945, 820612, 974265, 1102003]"
      ]
     },
     "execution_count": 8,
     "metadata": {},
     "output_type": "execute_result"
    }
   ],
   "source": [
    "recommender.get_similar_users_recommendation(2375, N=5)"
   ]
  },
  {
   "cell_type": "markdown",
   "metadata": {
    "id": "Bqs9Sw_YC4Jt"
   },
   "source": [
    "### Задание 1\n",
    "\n",
    "A) Попробуйте различные варианты генерации кандидатов. Какие из них дают наибольший recall@k ?\n",
    "- Пока пробуем отобрать 50 кандидатов (k=50)\n",
    "- Качество измеряем на data_val_lvl_1: следующие 6 недель после трейна\n",
    "\n",
    "Дают ли own recommendtions + top-popular лучший recall?  \n",
    "\n",
    "B)* Как зависит recall@k от k? Постройте для одной схемы генерации кандидатов эту зависимость для k = {20, 50, 100, 200, 500}  \n",
    "C)* Исходя из прошлого вопроса, как вы думаете, какое значение k является наиболее разумным?\n"
   ]
  },
  {
   "cell_type": "code",
   "execution_count": 9,
   "metadata": {
    "id": "frt2RzDWC4Jt",
    "outputId": "7c594abf-4a34-406b-9897-8bfbddf69a93"
   },
   "outputs": [
    {
     "data": {
      "text/html": [
       "<div>\n",
       "<style scoped>\n",
       "    .dataframe tbody tr th:only-of-type {\n",
       "        vertical-align: middle;\n",
       "    }\n",
       "\n",
       "    .dataframe tbody tr th {\n",
       "        vertical-align: top;\n",
       "    }\n",
       "\n",
       "    .dataframe thead th {\n",
       "        text-align: right;\n",
       "    }\n",
       "</style>\n",
       "<table border=\"1\" class=\"dataframe\">\n",
       "  <thead>\n",
       "    <tr style=\"text-align: right;\">\n",
       "      <th></th>\n",
       "      <th>user_id</th>\n",
       "      <th>actual</th>\n",
       "    </tr>\n",
       "  </thead>\n",
       "  <tbody>\n",
       "    <tr>\n",
       "      <th>0</th>\n",
       "      <td>1</td>\n",
       "      <td>[853529, 865456, 867607, 872137, 874905, 87524...</td>\n",
       "    </tr>\n",
       "    <tr>\n",
       "      <th>1</th>\n",
       "      <td>2</td>\n",
       "      <td>[15830248, 838136, 839656, 861272, 866211, 870...</td>\n",
       "    </tr>\n",
       "  </tbody>\n",
       "</table>\n",
       "</div>"
      ],
      "text/plain": [
       "   user_id                                             actual\n",
       "0        1  [853529, 865456, 867607, 872137, 874905, 87524...\n",
       "1        2  [15830248, 838136, 839656, 861272, 866211, 870..."
      ]
     },
     "execution_count": 9,
     "metadata": {},
     "output_type": "execute_result"
    }
   ],
   "source": [
    "result_lvl_1 = data_val_lvl_1.groupby('user_id')['item_id'].unique().reset_index().copy()\n",
    "result_lvl_1.columns=['user_id', 'actual']\n",
    "result_lvl_1.head(2)"
   ]
  },
  {
   "cell_type": "code",
   "execution_count": 10,
   "metadata": {
    "id": "xM5W4mU4C4Jt"
   },
   "outputs": [
    {
     "data": {
      "text/html": [
       "<div>\n",
       "<style scoped>\n",
       "    .dataframe tbody tr th:only-of-type {\n",
       "        vertical-align: middle;\n",
       "    }\n",
       "\n",
       "    .dataframe tbody tr th {\n",
       "        vertical-align: top;\n",
       "    }\n",
       "\n",
       "    .dataframe thead th {\n",
       "        text-align: right;\n",
       "    }\n",
       "</style>\n",
       "<table border=\"1\" class=\"dataframe\">\n",
       "  <thead>\n",
       "    <tr style=\"text-align: right;\">\n",
       "      <th></th>\n",
       "      <th>user_id</th>\n",
       "      <th>actual</th>\n",
       "      <th>als</th>\n",
       "    </tr>\n",
       "  </thead>\n",
       "  <tbody>\n",
       "    <tr>\n",
       "      <th>0</th>\n",
       "      <td>1</td>\n",
       "      <td>[853529, 865456, 867607, 872137, 874905, 87524...</td>\n",
       "      <td>[1037332, 1082212, 1055425, 885290, 912704, 85...</td>\n",
       "    </tr>\n",
       "    <tr>\n",
       "      <th>1</th>\n",
       "      <td>2</td>\n",
       "      <td>[15830248, 838136, 839656, 861272, 866211, 870...</td>\n",
       "      <td>[5569230, 934399, 1029743, 882308, 1127831, 99...</td>\n",
       "    </tr>\n",
       "  </tbody>\n",
       "</table>\n",
       "</div>"
      ],
      "text/plain": [
       "   user_id                                             actual  \\\n",
       "0        1  [853529, 865456, 867607, 872137, 874905, 87524...   \n",
       "1        2  [15830248, 838136, 839656, 861272, 866211, 870...   \n",
       "\n",
       "                                                 als  \n",
       "0  [1037332, 1082212, 1055425, 885290, 912704, 85...  \n",
       "1  [5569230, 934399, 1029743, 882308, 1127831, 99...  "
      ]
     },
     "execution_count": 10,
     "metadata": {},
     "output_type": "execute_result"
    }
   ],
   "source": [
    "train_users = data_train_lvl_1['user_id'].unique()\n",
    "result_lvl_1 = result_lvl_1[result_lvl_1['user_id'].isin(train_users)]\n",
    "result_lvl_1['als'] = result_lvl_1['user_id'].apply(lambda u: recommender.get_als_recommendations(u, 500))\n",
    "result_lvl_1.head(2)"
   ]
  },
  {
   "cell_type": "code",
   "execution_count": 11,
   "metadata": {},
   "outputs": [
    {
     "data": {
      "text/html": [
       "<div>\n",
       "<style scoped>\n",
       "    .dataframe tbody tr th:only-of-type {\n",
       "        vertical-align: middle;\n",
       "    }\n",
       "\n",
       "    .dataframe tbody tr th {\n",
       "        vertical-align: top;\n",
       "    }\n",
       "\n",
       "    .dataframe thead th {\n",
       "        text-align: right;\n",
       "    }\n",
       "</style>\n",
       "<table border=\"1\" class=\"dataframe\">\n",
       "  <thead>\n",
       "    <tr style=\"text-align: right;\">\n",
       "      <th></th>\n",
       "      <th>user_id</th>\n",
       "      <th>actual</th>\n",
       "      <th>als</th>\n",
       "      <th>own</th>\n",
       "    </tr>\n",
       "  </thead>\n",
       "  <tbody>\n",
       "    <tr>\n",
       "      <th>0</th>\n",
       "      <td>1</td>\n",
       "      <td>[853529, 865456, 867607, 872137, 874905, 87524...</td>\n",
       "      <td>[1037332, 1082212, 1055425, 885290, 912704, 85...</td>\n",
       "      <td>[856942, 9297615, 5577022, 877391, 9655212, 88...</td>\n",
       "    </tr>\n",
       "    <tr>\n",
       "      <th>1</th>\n",
       "      <td>2</td>\n",
       "      <td>[15830248, 838136, 839656, 861272, 866211, 870...</td>\n",
       "      <td>[5569230, 934399, 1029743, 882308, 1127831, 99...</td>\n",
       "      <td>[911974, 1076580, 1103898, 5567582, 1056620, 9...</td>\n",
       "    </tr>\n",
       "  </tbody>\n",
       "</table>\n",
       "</div>"
      ],
      "text/plain": [
       "   user_id                                             actual  \\\n",
       "0        1  [853529, 865456, 867607, 872137, 874905, 87524...   \n",
       "1        2  [15830248, 838136, 839656, 861272, 866211, 870...   \n",
       "\n",
       "                                                 als  \\\n",
       "0  [1037332, 1082212, 1055425, 885290, 912704, 85...   \n",
       "1  [5569230, 934399, 1029743, 882308, 1127831, 99...   \n",
       "\n",
       "                                                 own  \n",
       "0  [856942, 9297615, 5577022, 877391, 9655212, 88...  \n",
       "1  [911974, 1076580, 1103898, 5567582, 1056620, 9...  "
      ]
     },
     "execution_count": 11,
     "metadata": {},
     "output_type": "execute_result"
    }
   ],
   "source": [
    "result_lvl_1['own'] = result_lvl_1['user_id'].apply(lambda u: recommender.get_own_recommendations(u, 500))\n",
    "result_lvl_1.head(2)"
   ]
  },
  {
   "cell_type": "code",
   "execution_count": 12,
   "metadata": {},
   "outputs": [
    {
     "data": {
      "text/html": [
       "<div>\n",
       "<style scoped>\n",
       "    .dataframe tbody tr th:only-of-type {\n",
       "        vertical-align: middle;\n",
       "    }\n",
       "\n",
       "    .dataframe tbody tr th {\n",
       "        vertical-align: top;\n",
       "    }\n",
       "\n",
       "    .dataframe thead th {\n",
       "        text-align: right;\n",
       "    }\n",
       "</style>\n",
       "<table border=\"1\" class=\"dataframe\">\n",
       "  <thead>\n",
       "    <tr style=\"text-align: right;\">\n",
       "      <th></th>\n",
       "      <th>user_id</th>\n",
       "      <th>actual</th>\n",
       "      <th>als</th>\n",
       "      <th>own</th>\n",
       "      <th>similar_items</th>\n",
       "    </tr>\n",
       "  </thead>\n",
       "  <tbody>\n",
       "    <tr>\n",
       "      <th>0</th>\n",
       "      <td>1</td>\n",
       "      <td>[853529, 865456, 867607, 872137, 874905, 87524...</td>\n",
       "      <td>[1037332, 1082212, 1055425, 885290, 912704, 85...</td>\n",
       "      <td>[856942, 9297615, 5577022, 877391, 9655212, 88...</td>\n",
       "      <td>[842762, 1007512, 990656, 5577022, 9803545, 98...</td>\n",
       "    </tr>\n",
       "    <tr>\n",
       "      <th>1</th>\n",
       "      <td>2</td>\n",
       "      <td>[15830248, 838136, 839656, 861272, 866211, 870...</td>\n",
       "      <td>[5569230, 934399, 1029743, 882308, 1127831, 99...</td>\n",
       "      <td>[911974, 1076580, 1103898, 5567582, 1056620, 9...</td>\n",
       "      <td>[1137346, 5569845, 1044078, 985999, 880888, 81...</td>\n",
       "    </tr>\n",
       "  </tbody>\n",
       "</table>\n",
       "</div>"
      ],
      "text/plain": [
       "   user_id                                             actual  \\\n",
       "0        1  [853529, 865456, 867607, 872137, 874905, 87524...   \n",
       "1        2  [15830248, 838136, 839656, 861272, 866211, 870...   \n",
       "\n",
       "                                                 als  \\\n",
       "0  [1037332, 1082212, 1055425, 885290, 912704, 85...   \n",
       "1  [5569230, 934399, 1029743, 882308, 1127831, 99...   \n",
       "\n",
       "                                                 own  \\\n",
       "0  [856942, 9297615, 5577022, 877391, 9655212, 88...   \n",
       "1  [911974, 1076580, 1103898, 5567582, 1056620, 9...   \n",
       "\n",
       "                                       similar_items  \n",
       "0  [842762, 1007512, 990656, 5577022, 9803545, 98...  \n",
       "1  [1137346, 5569845, 1044078, 985999, 880888, 81...  "
      ]
     },
     "execution_count": 12,
     "metadata": {},
     "output_type": "execute_result"
    }
   ],
   "source": [
    "result_lvl_1['similar_items'] = result_lvl_1['user_id'].apply(lambda u: recommender.get_similar_items_recommendation(u, 500))\n",
    "result_lvl_1.head(2)"
   ]
  },
  {
   "cell_type": "code",
   "execution_count": 13,
   "metadata": {},
   "outputs": [],
   "source": [
    "#result_lvl_1['similar_users'] = result_lvl_1['user_id'].apply(lambda u: recommender.get_similar_users_recommendation(u, 5))\n",
    "#result_lvl_1.head(2)\n",
    "# не работает"
   ]
  },
  {
   "cell_type": "code",
   "execution_count": 14,
   "metadata": {},
   "outputs": [
    {
     "name": "stdout",
     "output_type": "stream",
     "text": [
      "Model als, k = 20:   Mean recall@k = 0.029936029167757377\n",
      "Model als, k = 50:   Mean recall@k = 0.049233143762609094\n",
      "Model als, k = 100:   Mean recall@k = 0.06950404919177722\n",
      "Model als, k = 200:   Mean recall@k = 0.09827608717654128\n",
      "Model als, k = 500:   Mean recall@k = 0.14748560935103644\n",
      "Model own, k = 20:   Mean recall@k = 0.03928427679372909\n",
      "Model own, k = 50:   Mean recall@k = 0.06525657038145175\n",
      "Model own, k = 100:   Mean recall@k = 0.09604492955885034\n",
      "Model own, k = 200:   Mean recall@k = 0.13537278412833242\n",
      "Model own, k = 500:   Mean recall@k = 0.18205324555508678\n",
      "Model similar_items, k = 20:   Mean recall@k = 0.018189114141727265\n",
      "Model similar_items, k = 50:   Mean recall@k = 0.034190612171024135\n",
      "Model similar_items, k = 100:   Mean recall@k = 0.05445933414783967\n",
      "Model similar_items, k = 200:   Mean recall@k = 0.08649117439314544\n",
      "Model similar_items, k = 500:   Mean recall@k = 0.137187102283578\n"
     ]
    }
   ],
   "source": [
    "for model_name in ['als', 'own', 'similar_items']:\n",
    "    for k in [20, 50, 100, 200, 500]:\n",
    "        mean_recall_at_k = result_lvl_1.apply(lambda row: recall_at_k(row[model_name], row['actual'], k), axis=1).mean()\n",
    "        print(f'Model {model_name}, k = {k}:   Mean recall@k = {mean_recall_at_k}')\n"
   ]
  },
  {
   "cell_type": "markdown",
   "metadata": {
    "id": "bAHJu3Z5C4Ju"
   },
   "source": [
    "### Задание 2.\n",
    "\n",
    "Обучите модель 2-ого уровня, при этом:\n",
    "    - Добавьте минимум по 2 фичи для юзера, товара и пары юзер-товар\n",
    "    - Измерьте отдельно precision@5 модели 1-ого уровня и двухуровневой модели на data_val_lvl_2\n",
    "    - Вырос ли precision@5 при использовании двухуровневой модели?"
   ]
  },
  {
   "cell_type": "code",
   "execution_count": 15,
   "metadata": {
    "id": "XZQcrch7C4Ju"
   },
   "outputs": [
    {
     "data": {
      "text/html": [
       "<div>\n",
       "<style scoped>\n",
       "    .dataframe tbody tr th:only-of-type {\n",
       "        vertical-align: middle;\n",
       "    }\n",
       "\n",
       "    .dataframe tbody tr th {\n",
       "        vertical-align: top;\n",
       "    }\n",
       "\n",
       "    .dataframe thead th {\n",
       "        text-align: right;\n",
       "    }\n",
       "</style>\n",
       "<table border=\"1\" class=\"dataframe\">\n",
       "  <thead>\n",
       "    <tr style=\"text-align: right;\">\n",
       "      <th></th>\n",
       "      <th>user_id</th>\n",
       "      <th>item_id</th>\n",
       "    </tr>\n",
       "  </thead>\n",
       "  <tbody>\n",
       "    <tr>\n",
       "      <th>0</th>\n",
       "      <td>2070</td>\n",
       "      <td>1105426</td>\n",
       "    </tr>\n",
       "    <tr>\n",
       "      <th>0</th>\n",
       "      <td>2070</td>\n",
       "      <td>1097350</td>\n",
       "    </tr>\n",
       "  </tbody>\n",
       "</table>\n",
       "</div>"
      ],
      "text/plain": [
       "   user_id  item_id\n",
       "0     2070  1105426\n",
       "0     2070  1097350"
      ]
     },
     "execution_count": 15,
     "metadata": {},
     "output_type": "execute_result"
    }
   ],
   "source": [
    "users_lvl_2 = pd.DataFrame(data_train_lvl_2['user_id'].unique(), columns = ['user_id']) \n",
    "users_lvl_2 = users_lvl_2[users_lvl_2['user_id'].isin(train_users)]\n",
    "\n",
    "users_lvl_2['candidates'] = users_lvl_2['user_id'].apply(lambda x: recommender.get_own_recommendations(x, N=50))\n",
    "\n",
    "s = users_lvl_2.apply(lambda x: pd.Series(x['candidates']), axis=1).stack().reset_index(level=1, drop=True)\n",
    "s.name = 'item_id'\n",
    "\n",
    "users_lvl_2 = users_lvl_2.drop('candidates', axis=1).join(s)\n",
    "users_lvl_2.head(2)"
   ]
  },
  {
   "cell_type": "code",
   "execution_count": 16,
   "metadata": {},
   "outputs": [
    {
     "data": {
      "text/html": [
       "<div>\n",
       "<style scoped>\n",
       "    .dataframe tbody tr th:only-of-type {\n",
       "        vertical-align: middle;\n",
       "    }\n",
       "\n",
       "    .dataframe tbody tr th {\n",
       "        vertical-align: top;\n",
       "    }\n",
       "\n",
       "    .dataframe thead th {\n",
       "        text-align: right;\n",
       "    }\n",
       "</style>\n",
       "<table border=\"1\" class=\"dataframe\">\n",
       "  <thead>\n",
       "    <tr style=\"text-align: right;\">\n",
       "      <th></th>\n",
       "      <th>user_id</th>\n",
       "      <th>item_id</th>\n",
       "      <th>target</th>\n",
       "    </tr>\n",
       "  </thead>\n",
       "  <tbody>\n",
       "    <tr>\n",
       "      <th>0</th>\n",
       "      <td>2070</td>\n",
       "      <td>1105426</td>\n",
       "      <td>0.0</td>\n",
       "    </tr>\n",
       "    <tr>\n",
       "      <th>1</th>\n",
       "      <td>2070</td>\n",
       "      <td>1097350</td>\n",
       "      <td>0.0</td>\n",
       "    </tr>\n",
       "    <tr>\n",
       "      <th>2</th>\n",
       "      <td>2070</td>\n",
       "      <td>879194</td>\n",
       "      <td>0.0</td>\n",
       "    </tr>\n",
       "    <tr>\n",
       "      <th>3</th>\n",
       "      <td>2070</td>\n",
       "      <td>948640</td>\n",
       "      <td>0.0</td>\n",
       "    </tr>\n",
       "    <tr>\n",
       "      <th>4</th>\n",
       "      <td>2070</td>\n",
       "      <td>928263</td>\n",
       "      <td>0.0</td>\n",
       "    </tr>\n",
       "    <tr>\n",
       "      <th>...</th>\n",
       "      <td>...</td>\n",
       "      <td>...</td>\n",
       "      <td>...</td>\n",
       "    </tr>\n",
       "    <tr>\n",
       "      <th>111308</th>\n",
       "      <td>1745</td>\n",
       "      <td>903454</td>\n",
       "      <td>0.0</td>\n",
       "    </tr>\n",
       "    <tr>\n",
       "      <th>111309</th>\n",
       "      <td>1745</td>\n",
       "      <td>9419888</td>\n",
       "      <td>0.0</td>\n",
       "    </tr>\n",
       "    <tr>\n",
       "      <th>111310</th>\n",
       "      <td>1745</td>\n",
       "      <td>1076769</td>\n",
       "      <td>0.0</td>\n",
       "    </tr>\n",
       "    <tr>\n",
       "      <th>111311</th>\n",
       "      <td>1745</td>\n",
       "      <td>1092588</td>\n",
       "      <td>0.0</td>\n",
       "    </tr>\n",
       "    <tr>\n",
       "      <th>111312</th>\n",
       "      <td>1745</td>\n",
       "      <td>1024051</td>\n",
       "      <td>0.0</td>\n",
       "    </tr>\n",
       "  </tbody>\n",
       "</table>\n",
       "<p>111313 rows × 3 columns</p>\n",
       "</div>"
      ],
      "text/plain": [
       "        user_id  item_id  target\n",
       "0          2070  1105426     0.0\n",
       "1          2070  1097350     0.0\n",
       "2          2070   879194     0.0\n",
       "3          2070   948640     0.0\n",
       "4          2070   928263     0.0\n",
       "...         ...      ...     ...\n",
       "111308     1745   903454     0.0\n",
       "111309     1745  9419888     0.0\n",
       "111310     1745  1076769     0.0\n",
       "111311     1745  1092588     0.0\n",
       "111312     1745  1024051     0.0\n",
       "\n",
       "[111313 rows x 3 columns]"
      ]
     },
     "metadata": {},
     "output_type": "display_data"
    },
    {
     "data": {
      "text/plain": [
       "0.10460593102333061"
      ]
     },
     "execution_count": 16,
     "metadata": {},
     "output_type": "execute_result"
    }
   ],
   "source": [
    "targets_lvl_2 = data_train_lvl_2[['user_id', 'item_id']].copy()\n",
    "targets_lvl_2['target'] = 1  \n",
    "\n",
    "targets_lvl_2 = users_lvl_2.merge(targets_lvl_2, on=['user_id', 'item_id'], how='left')\n",
    "\n",
    "targets_lvl_2['target'].fillna(0, inplace= True)\n",
    "display(targets_lvl_2)\n",
    "targets_lvl_2['target'].mean()"
   ]
  },
  {
   "cell_type": "code",
   "execution_count": 17,
   "metadata": {},
   "outputs": [
    {
     "data": {
      "text/html": [
       "<div>\n",
       "<style scoped>\n",
       "    .dataframe tbody tr th:only-of-type {\n",
       "        vertical-align: middle;\n",
       "    }\n",
       "\n",
       "    .dataframe tbody tr th {\n",
       "        vertical-align: top;\n",
       "    }\n",
       "\n",
       "    .dataframe thead th {\n",
       "        text-align: right;\n",
       "    }\n",
       "</style>\n",
       "<table border=\"1\" class=\"dataframe\">\n",
       "  <thead>\n",
       "    <tr style=\"text-align: right;\">\n",
       "      <th></th>\n",
       "      <th>user_id</th>\n",
       "      <th>item_id</th>\n",
       "      <th>target</th>\n",
       "      <th>manufacturer</th>\n",
       "      <th>department</th>\n",
       "      <th>brand</th>\n",
       "      <th>commodity_desc</th>\n",
       "      <th>sub_commodity_desc</th>\n",
       "      <th>curr_size_of_product</th>\n",
       "      <th>age_desc</th>\n",
       "      <th>...</th>\n",
       "      <th>kid_category_desc</th>\n",
       "      <th>baskets_by_user</th>\n",
       "      <th>sales_value_by_user</th>\n",
       "      <th>user_mean_check</th>\n",
       "      <th>quantity_by_user_commodity_desc</th>\n",
       "      <th>weeks_by_user</th>\n",
       "      <th>baskets_per_week_by_user</th>\n",
       "      <th>weeks_by_item</th>\n",
       "      <th>quantity_by_item</th>\n",
       "      <th>quanity_per_week_by_item</th>\n",
       "    </tr>\n",
       "  </thead>\n",
       "  <tbody>\n",
       "    <tr>\n",
       "      <th>0</th>\n",
       "      <td>2070</td>\n",
       "      <td>1105426</td>\n",
       "      <td>0.0</td>\n",
       "      <td>69</td>\n",
       "      <td>DELI</td>\n",
       "      <td>Private</td>\n",
       "      <td>SANDWICHES</td>\n",
       "      <td>SANDWICHES - (COLD)</td>\n",
       "      <td></td>\n",
       "      <td>45-54</td>\n",
       "      <td>...</td>\n",
       "      <td>None/Unknown</td>\n",
       "      <td>43</td>\n",
       "      <td>617.29</td>\n",
       "      <td>14.355581</td>\n",
       "      <td>0.0</td>\n",
       "      <td>6</td>\n",
       "      <td>7.166667</td>\n",
       "      <td>3.0</td>\n",
       "      <td>5.0</td>\n",
       "      <td>1.666667</td>\n",
       "    </tr>\n",
       "    <tr>\n",
       "      <th>1</th>\n",
       "      <td>2070</td>\n",
       "      <td>1097350</td>\n",
       "      <td>0.0</td>\n",
       "      <td>2468</td>\n",
       "      <td>GROCERY</td>\n",
       "      <td>National</td>\n",
       "      <td>DOMESTIC WINE</td>\n",
       "      <td>VALUE GLASS WINE</td>\n",
       "      <td>4 LTR</td>\n",
       "      <td>45-54</td>\n",
       "      <td>...</td>\n",
       "      <td>None/Unknown</td>\n",
       "      <td>43</td>\n",
       "      <td>617.29</td>\n",
       "      <td>14.355581</td>\n",
       "      <td>0.0</td>\n",
       "      <td>6</td>\n",
       "      <td>7.166667</td>\n",
       "      <td>1.0</td>\n",
       "      <td>1.0</td>\n",
       "      <td>1.000000</td>\n",
       "    </tr>\n",
       "    <tr>\n",
       "      <th>2</th>\n",
       "      <td>2070</td>\n",
       "      <td>879194</td>\n",
       "      <td>0.0</td>\n",
       "      <td>69</td>\n",
       "      <td>DRUG GM</td>\n",
       "      <td>Private</td>\n",
       "      <td>DIAPERS &amp; DISPOSABLES</td>\n",
       "      <td>BABY DIAPERS</td>\n",
       "      <td>14 CT</td>\n",
       "      <td>45-54</td>\n",
       "      <td>...</td>\n",
       "      <td>None/Unknown</td>\n",
       "      <td>43</td>\n",
       "      <td>617.29</td>\n",
       "      <td>14.355581</td>\n",
       "      <td>1.0</td>\n",
       "      <td>6</td>\n",
       "      <td>7.166667</td>\n",
       "      <td>NaN</td>\n",
       "      <td>NaN</td>\n",
       "      <td>NaN</td>\n",
       "    </tr>\n",
       "    <tr>\n",
       "      <th>3</th>\n",
       "      <td>2070</td>\n",
       "      <td>948640</td>\n",
       "      <td>0.0</td>\n",
       "      <td>1213</td>\n",
       "      <td>DRUG GM</td>\n",
       "      <td>National</td>\n",
       "      <td>ORAL HYGIENE PRODUCTS</td>\n",
       "      <td>WHITENING SYSTEMS</td>\n",
       "      <td>3 OZ</td>\n",
       "      <td>45-54</td>\n",
       "      <td>...</td>\n",
       "      <td>None/Unknown</td>\n",
       "      <td>43</td>\n",
       "      <td>617.29</td>\n",
       "      <td>14.355581</td>\n",
       "      <td>0.0</td>\n",
       "      <td>6</td>\n",
       "      <td>7.166667</td>\n",
       "      <td>NaN</td>\n",
       "      <td>NaN</td>\n",
       "      <td>NaN</td>\n",
       "    </tr>\n",
       "    <tr>\n",
       "      <th>4</th>\n",
       "      <td>2070</td>\n",
       "      <td>928263</td>\n",
       "      <td>0.0</td>\n",
       "      <td>69</td>\n",
       "      <td>DRUG GM</td>\n",
       "      <td>Private</td>\n",
       "      <td>DIAPERS &amp; DISPOSABLES</td>\n",
       "      <td>BABY DIAPERS</td>\n",
       "      <td>13 CT</td>\n",
       "      <td>45-54</td>\n",
       "      <td>...</td>\n",
       "      <td>None/Unknown</td>\n",
       "      <td>43</td>\n",
       "      <td>617.29</td>\n",
       "      <td>14.355581</td>\n",
       "      <td>1.0</td>\n",
       "      <td>6</td>\n",
       "      <td>7.166667</td>\n",
       "      <td>5.0</td>\n",
       "      <td>11.0</td>\n",
       "      <td>2.200000</td>\n",
       "    </tr>\n",
       "    <tr>\n",
       "      <th>...</th>\n",
       "      <td>...</td>\n",
       "      <td>...</td>\n",
       "      <td>...</td>\n",
       "      <td>...</td>\n",
       "      <td>...</td>\n",
       "      <td>...</td>\n",
       "      <td>...</td>\n",
       "      <td>...</td>\n",
       "      <td>...</td>\n",
       "      <td>...</td>\n",
       "      <td>...</td>\n",
       "      <td>...</td>\n",
       "      <td>...</td>\n",
       "      <td>...</td>\n",
       "      <td>...</td>\n",
       "      <td>...</td>\n",
       "      <td>...</td>\n",
       "      <td>...</td>\n",
       "      <td>...</td>\n",
       "      <td>...</td>\n",
       "      <td>...</td>\n",
       "    </tr>\n",
       "    <tr>\n",
       "      <th>111308</th>\n",
       "      <td>1745</td>\n",
       "      <td>903454</td>\n",
       "      <td>0.0</td>\n",
       "      <td>1216</td>\n",
       "      <td>MEAT-PCKGD</td>\n",
       "      <td>National</td>\n",
       "      <td>FROZEN MEAT</td>\n",
       "      <td>OTHER - FULLY COOKED</td>\n",
       "      <td>32 OZ</td>\n",
       "      <td>45-54</td>\n",
       "      <td>...</td>\n",
       "      <td>None/Unknown</td>\n",
       "      <td>1</td>\n",
       "      <td>13.97</td>\n",
       "      <td>13.970000</td>\n",
       "      <td>0.0</td>\n",
       "      <td>1</td>\n",
       "      <td>1.000000</td>\n",
       "      <td>NaN</td>\n",
       "      <td>NaN</td>\n",
       "      <td>NaN</td>\n",
       "    </tr>\n",
       "    <tr>\n",
       "      <th>111309</th>\n",
       "      <td>1745</td>\n",
       "      <td>9419888</td>\n",
       "      <td>0.0</td>\n",
       "      <td>759</td>\n",
       "      <td>GROCERY</td>\n",
       "      <td>National</td>\n",
       "      <td>YOGURT</td>\n",
       "      <td>YOGURT MULTI-PACKS</td>\n",
       "      <td>48 OZ</td>\n",
       "      <td>45-54</td>\n",
       "      <td>...</td>\n",
       "      <td>None/Unknown</td>\n",
       "      <td>1</td>\n",
       "      <td>13.97</td>\n",
       "      <td>13.970000</td>\n",
       "      <td>0.0</td>\n",
       "      <td>1</td>\n",
       "      <td>1.000000</td>\n",
       "      <td>5.0</td>\n",
       "      <td>9.0</td>\n",
       "      <td>1.800000</td>\n",
       "    </tr>\n",
       "    <tr>\n",
       "      <th>111310</th>\n",
       "      <td>1745</td>\n",
       "      <td>1076769</td>\n",
       "      <td>0.0</td>\n",
       "      <td>3859</td>\n",
       "      <td>DELI</td>\n",
       "      <td>National</td>\n",
       "      <td>DELI MEATS</td>\n",
       "      <td>MEAT: LUNCHMEAT BULK</td>\n",
       "      <td></td>\n",
       "      <td>45-54</td>\n",
       "      <td>...</td>\n",
       "      <td>None/Unknown</td>\n",
       "      <td>1</td>\n",
       "      <td>13.97</td>\n",
       "      <td>13.970000</td>\n",
       "      <td>0.0</td>\n",
       "      <td>1</td>\n",
       "      <td>1.000000</td>\n",
       "      <td>5.0</td>\n",
       "      <td>13.0</td>\n",
       "      <td>2.600000</td>\n",
       "    </tr>\n",
       "    <tr>\n",
       "      <th>111311</th>\n",
       "      <td>1745</td>\n",
       "      <td>1092588</td>\n",
       "      <td>0.0</td>\n",
       "      <td>709</td>\n",
       "      <td>GROCERY</td>\n",
       "      <td>National</td>\n",
       "      <td>FLUID MILK PRODUCTS</td>\n",
       "      <td>MISCELLANEOUS MILK</td>\n",
       "      <td>32 OZ</td>\n",
       "      <td>45-54</td>\n",
       "      <td>...</td>\n",
       "      <td>None/Unknown</td>\n",
       "      <td>1</td>\n",
       "      <td>13.97</td>\n",
       "      <td>13.970000</td>\n",
       "      <td>0.0</td>\n",
       "      <td>1</td>\n",
       "      <td>1.000000</td>\n",
       "      <td>6.0</td>\n",
       "      <td>27.0</td>\n",
       "      <td>4.500000</td>\n",
       "    </tr>\n",
       "    <tr>\n",
       "      <th>111312</th>\n",
       "      <td>1745</td>\n",
       "      <td>1024051</td>\n",
       "      <td>0.0</td>\n",
       "      <td>1508</td>\n",
       "      <td>GROCERY</td>\n",
       "      <td>National</td>\n",
       "      <td>FRZN MEAT/MEAT DINNERS</td>\n",
       "      <td>FRZN MULTI SERVE ENTREES ALL</td>\n",
       "      <td>28 OZ</td>\n",
       "      <td>45-54</td>\n",
       "      <td>...</td>\n",
       "      <td>None/Unknown</td>\n",
       "      <td>1</td>\n",
       "      <td>13.97</td>\n",
       "      <td>13.970000</td>\n",
       "      <td>0.0</td>\n",
       "      <td>1</td>\n",
       "      <td>1.000000</td>\n",
       "      <td>6.0</td>\n",
       "      <td>38.0</td>\n",
       "      <td>6.333333</td>\n",
       "    </tr>\n",
       "  </tbody>\n",
       "</table>\n",
       "<p>111313 rows × 25 columns</p>\n",
       "</div>"
      ],
      "text/plain": [
       "        user_id  item_id  target  manufacturer  department     brand  \\\n",
       "0          2070  1105426     0.0            69        DELI   Private   \n",
       "1          2070  1097350     0.0          2468     GROCERY  National   \n",
       "2          2070   879194     0.0            69     DRUG GM   Private   \n",
       "3          2070   948640     0.0          1213     DRUG GM  National   \n",
       "4          2070   928263     0.0            69     DRUG GM   Private   \n",
       "...         ...      ...     ...           ...         ...       ...   \n",
       "111308     1745   903454     0.0          1216  MEAT-PCKGD  National   \n",
       "111309     1745  9419888     0.0           759     GROCERY  National   \n",
       "111310     1745  1076769     0.0          3859        DELI  National   \n",
       "111311     1745  1092588     0.0           709     GROCERY  National   \n",
       "111312     1745  1024051     0.0          1508     GROCERY  National   \n",
       "\n",
       "                commodity_desc            sub_commodity_desc  \\\n",
       "0                   SANDWICHES           SANDWICHES - (COLD)   \n",
       "1                DOMESTIC WINE              VALUE GLASS WINE   \n",
       "2        DIAPERS & DISPOSABLES                  BABY DIAPERS   \n",
       "3        ORAL HYGIENE PRODUCTS             WHITENING SYSTEMS   \n",
       "4        DIAPERS & DISPOSABLES                  BABY DIAPERS   \n",
       "...                        ...                           ...   \n",
       "111308             FROZEN MEAT          OTHER - FULLY COOKED   \n",
       "111309                  YOGURT            YOGURT MULTI-PACKS   \n",
       "111310              DELI MEATS          MEAT: LUNCHMEAT BULK   \n",
       "111311     FLUID MILK PRODUCTS            MISCELLANEOUS MILK   \n",
       "111312  FRZN MEAT/MEAT DINNERS  FRZN MULTI SERVE ENTREES ALL   \n",
       "\n",
       "       curr_size_of_product age_desc  ... kid_category_desc baskets_by_user  \\\n",
       "0                              45-54  ...      None/Unknown              43   \n",
       "1                     4 LTR    45-54  ...      None/Unknown              43   \n",
       "2                     14 CT    45-54  ...      None/Unknown              43   \n",
       "3                      3 OZ    45-54  ...      None/Unknown              43   \n",
       "4                     13 CT    45-54  ...      None/Unknown              43   \n",
       "...                     ...      ...  ...               ...             ...   \n",
       "111308                32 OZ    45-54  ...      None/Unknown               1   \n",
       "111309                48 OZ    45-54  ...      None/Unknown               1   \n",
       "111310                         45-54  ...      None/Unknown               1   \n",
       "111311                32 OZ    45-54  ...      None/Unknown               1   \n",
       "111312                28 OZ    45-54  ...      None/Unknown               1   \n",
       "\n",
       "       sales_value_by_user user_mean_check quantity_by_user_commodity_desc  \\\n",
       "0                   617.29       14.355581                             0.0   \n",
       "1                   617.29       14.355581                             0.0   \n",
       "2                   617.29       14.355581                             1.0   \n",
       "3                   617.29       14.355581                             0.0   \n",
       "4                   617.29       14.355581                             1.0   \n",
       "...                    ...             ...                             ...   \n",
       "111308               13.97       13.970000                             0.0   \n",
       "111309               13.97       13.970000                             0.0   \n",
       "111310               13.97       13.970000                             0.0   \n",
       "111311               13.97       13.970000                             0.0   \n",
       "111312               13.97       13.970000                             0.0   \n",
       "\n",
       "       weeks_by_user  baskets_per_week_by_user  weeks_by_item  \\\n",
       "0                  6                  7.166667            3.0   \n",
       "1                  6                  7.166667            1.0   \n",
       "2                  6                  7.166667            NaN   \n",
       "3                  6                  7.166667            NaN   \n",
       "4                  6                  7.166667            5.0   \n",
       "...              ...                       ...            ...   \n",
       "111308             1                  1.000000            NaN   \n",
       "111309             1                  1.000000            5.0   \n",
       "111310             1                  1.000000            5.0   \n",
       "111311             1                  1.000000            6.0   \n",
       "111312             1                  1.000000            6.0   \n",
       "\n",
       "        quantity_by_item  quanity_per_week_by_item  \n",
       "0                    5.0                  1.666667  \n",
       "1                    1.0                  1.000000  \n",
       "2                    NaN                       NaN  \n",
       "3                    NaN                       NaN  \n",
       "4                   11.0                  2.200000  \n",
       "...                  ...                       ...  \n",
       "111308               NaN                       NaN  \n",
       "111309               9.0                  1.800000  \n",
       "111310              13.0                  2.600000  \n",
       "111311              27.0                  4.500000  \n",
       "111312              38.0                  6.333333  \n",
       "\n",
       "[111313 rows x 25 columns]"
      ]
     },
     "execution_count": 17,
     "metadata": {},
     "output_type": "execute_result"
    }
   ],
   "source": [
    "def add_features(ds, data_ds=None):\n",
    "    if data_ds is None:\n",
    "        data_ds = ds\n",
    "        \n",
    "    ds = ds.merge(item_features, on='item_id', how='left')\n",
    "    ds = ds.merge(user_features, on='user_id', how='left')\n",
    "\n",
    "    baskets_by_user = data_ds.groupby('user_id')['basket_id'].nunique().reset_index().rename(columns={'basket_id': 'baskets_by_user'})\n",
    "    sales_value_by_user = data_ds.groupby('user_id')['sales_value'].sum().reset_index().rename(columns={'sales_value': 'sales_value_by_user'})\n",
    "\n",
    "    ds = ds.merge(baskets_by_user, on='user_id', how='left').merge(sales_value_by_user, on='user_id', how='left')\n",
    "    ds['user_mean_check'] = ds['sales_value_by_user'] / ds['baskets_by_user'] \n",
    "    # print(ds.shape)\n",
    "\n",
    "    train_with_features = data_ds.merge(item_features, on='item_id', how='left')\n",
    "\n",
    "    quantity_by_user_commodity_desc = train_with_features.groupby(['user_id', 'commodity_desc'])['quantity'].sum().reset_index().rename(columns={'quantity': 'quantity_by_user_commodity_desc'})\n",
    "    ds = ds.merge(quantity_by_user_commodity_desc, on=['user_id', 'commodity_desc'], how='left').fillna({'quantity_by_user_commodity_desc':0})\n",
    "    # print(ds.shape)\n",
    "\n",
    "    weeks_by_user = data_ds.groupby('user_id')['week_no'].nunique().reset_index().rename(columns={'week_no': 'weeks_by_user'})\n",
    "    ds = ds.merge(weeks_by_user, on='user_id', how='left')\n",
    "\n",
    "    ds['baskets_per_week_by_user'] = ds['baskets_by_user'] / ds['weeks_by_user'] \n",
    "    # print(ds.shape)\n",
    "\n",
    "    weeks_by_item = data_ds.groupby('item_id')['week_no'].nunique().reset_index().rename(columns={'week_no': 'weeks_by_item'})\n",
    "    quanity_by_item = data_ds.groupby('item_id')['quantity'].sum().reset_index().rename(columns={'quantity': 'quantity_by_item'})\n",
    "    ds = ds.merge(weeks_by_item, on='item_id', how='left').merge(quanity_by_item, on='item_id', how='left')\n",
    "\n",
    "    ds['quanity_per_week_by_item'] = ds['quantity_by_item'] / ds['weeks_by_item'] \n",
    "    #print(ds.shape)\n",
    "\n",
    "    return ds\n",
    "\n",
    "targets_lvl_2 = add_features(targets_lvl_2, data_train_lvl_2)\n",
    "\n",
    "targets_lvl_2"
   ]
  },
  {
   "cell_type": "code",
   "execution_count": 18,
   "metadata": {},
   "outputs": [
    {
     "data": {
      "text/plain": [
       "['department',\n",
       " 'brand',\n",
       " 'commodity_desc',\n",
       " 'sub_commodity_desc',\n",
       " 'curr_size_of_product',\n",
       " 'age_desc',\n",
       " 'marital_status_code',\n",
       " 'income_desc',\n",
       " 'homeowner_desc',\n",
       " 'hh_comp_desc',\n",
       " 'household_size_desc',\n",
       " 'kid_category_desc']"
      ]
     },
     "execution_count": 18,
     "metadata": {},
     "output_type": "execute_result"
    }
   ],
   "source": [
    "cat_features = [f for f, t in zip(targets_lvl_2.dtypes.index, targets_lvl_2.dtypes) if t == 'object']\n",
    "cat_features"
   ]
  },
  {
   "cell_type": "code",
   "execution_count": 19,
   "metadata": {},
   "outputs": [],
   "source": [
    "X_train = targets_lvl_2.drop('target', axis=1)\n",
    "y_train = targets_lvl_2['target']\n",
    "for c in cat_features:\n",
    "    X_train[c] = X_train[c].astype('category')"
   ]
  },
  {
   "cell_type": "code",
   "execution_count": 20,
   "metadata": {},
   "outputs": [
    {
     "name": "stderr",
     "output_type": "stream",
     "text": [
      "C:\\ProgramData\\Anaconda3\\lib\\site-packages\\lightgbm\\basic.py:1551: UserWarning: Using categorical_feature in Dataset.\n",
      "  warnings.warn('Using categorical_feature in Dataset.')\n"
     ]
    },
    {
     "data": {
      "text/plain": [
       "LGBMClassifier(boosting_type='gbdt', class_weight=None, colsample_bytree=1.0,\n",
       "               importance_type='split', learning_rate=0.1, max_depth=7,\n",
       "               min_child_samples=20, min_child_weight=0.001, min_split_gain=0.0,\n",
       "               n_estimators=100, n_jobs=-1, num_leaves=256, objective='binary',\n",
       "               random_state=None, reg_alpha=0.0, reg_lambda=0.0, silent=True,\n",
       "               subsample=1.0, subsample_for_bin=200000, subsample_freq=0)"
      ]
     },
     "execution_count": 20,
     "metadata": {},
     "output_type": "execute_result"
    }
   ],
   "source": [
    "lgb = LGBMClassifier(objective='binary', max_depth=7, num_leaves=256)\n",
    "lgb.fit(X_train, y_train, categorical_feature=cat_features)"
   ]
  },
  {
   "cell_type": "code",
   "execution_count": 21,
   "metadata": {},
   "outputs": [
    {
     "data": {
      "text/plain": [
       "(2042, 2)"
      ]
     },
     "execution_count": 21,
     "metadata": {},
     "output_type": "execute_result"
    }
   ],
   "source": [
    "result_lvl_2 = data_val_lvl_2.groupby('user_id')['item_id'].unique().reset_index().copy()\n",
    "result_lvl_2.columns=['user_id', 'actual']\n",
    "result_lvl_2.shape"
   ]
  },
  {
   "cell_type": "code",
   "execution_count": 26,
   "metadata": {},
   "outputs": [],
   "source": [
    "# предполагаем, что информация для выполнения рекомендации ограничена X_train\n",
    "\n",
    "pred_ds = X_train[['user_id', 'item_id']].copy()\n",
    "pred_ds['proba'] = lgb.predict_proba(X_train).T[0].T\n",
    "pred_ds = pred_ds.groupby(['user_id', 'item_id'])['proba'].mean().reset_index() # пары user_id-item_id не уникальны в X_train\n",
    "pred_s = pred_ds.groupby('user_id').apply(lambda x: x.sort_values('proba', ascending=False)['item_id'].tolist())#.reset_index().rename(columns={0:'lvl_2'})\n",
    "\n",
    "top = pred_ds.groupby('item_id')['proba'].mean().reset_index().sort_values('proba', ascending=False)['item_id'].tolist()\n",
    "\n",
    "def get_lvl_2_recommendations(user_id, N=5):\n",
    "    r = pred_s[user_id]\n",
    "    return r[:N]\n",
    "\n",
    "def get_recommendations(fn, user_id, N=5):\n",
    "    r = []\n",
    "    try:\n",
    "        r = fn(user_id, N)\n",
    "    except:\n",
    "        print(f'Нет рекомендации для user_id={user_id} из {fn}, возвращаем {N} из наилучших для lvl_2')\n",
    "    if len(r) < N:\n",
    "        print(f'Недостаточно рекомендации для user_id={user_id} из {fn}, добавляем {N - len(r)} из наилучших для lvl_2')\n",
    "        r += top[:N - len(r)] \n",
    "    return r[:N]"
   ]
  },
  {
   "cell_type": "code",
   "execution_count": 27,
   "metadata": {},
   "outputs": [
    {
     "data": {
      "text/plain": [
       "[7152319, 825123, 9296837, 979674, 936685]"
      ]
     },
     "execution_count": 27,
     "metadata": {},
     "output_type": "execute_result"
    }
   ],
   "source": [
    "get_lvl_2_recommendations(1)"
   ]
  },
  {
   "cell_type": "code",
   "execution_count": 28,
   "metadata": {},
   "outputs": [
    {
     "name": "stdout",
     "output_type": "stream",
     "text": [
      "Нет рекомендации для user_id=3 из <function get_lvl_2_recommendations at 0x0000027907C67828>, возвращаем 5 из наилучших для lvl_2\n",
      "Недостаточно рекомендации для user_id=3 из <function get_lvl_2_recommendations at 0x0000027907C67828>, добавляем 5 из наилучших для lvl_2\n",
      "Нет рекомендации для user_id=48 из <function get_lvl_2_recommendations at 0x0000027907C67828>, возвращаем 5 из наилучших для lvl_2\n",
      "Недостаточно рекомендации для user_id=48 из <function get_lvl_2_recommendations at 0x0000027907C67828>, добавляем 5 из наилучших для lvl_2\n",
      "Нет рекомендации для user_id=60 из <function get_lvl_2_recommendations at 0x0000027907C67828>, возвращаем 5 из наилучших для lvl_2\n",
      "Недостаточно рекомендации для user_id=60 из <function get_lvl_2_recommendations at 0x0000027907C67828>, добавляем 5 из наилучших для lvl_2\n",
      "Нет рекомендации для user_id=73 из <function get_lvl_2_recommendations at 0x0000027907C67828>, возвращаем 5 из наилучших для lvl_2\n",
      "Недостаточно рекомендации для user_id=73 из <function get_lvl_2_recommendations at 0x0000027907C67828>, добавляем 5 из наилучших для lvl_2\n",
      "Нет рекомендации для user_id=89 из <function get_lvl_2_recommendations at 0x0000027907C67828>, возвращаем 5 из наилучших для lvl_2\n",
      "Недостаточно рекомендации для user_id=89 из <function get_lvl_2_recommendations at 0x0000027907C67828>, добавляем 5 из наилучших для lvl_2\n",
      "Нет рекомендации для user_id=90 из <function get_lvl_2_recommendations at 0x0000027907C67828>, возвращаем 5 из наилучших для lvl_2\n",
      "Недостаточно рекомендации для user_id=90 из <function get_lvl_2_recommendations at 0x0000027907C67828>, добавляем 5 из наилучших для lvl_2\n",
      "Нет рекомендации для user_id=120 из <function get_lvl_2_recommendations at 0x0000027907C67828>, возвращаем 5 из наилучших для lvl_2\n",
      "Недостаточно рекомендации для user_id=120 из <function get_lvl_2_recommendations at 0x0000027907C67828>, добавляем 5 из наилучших для lvl_2\n",
      "Нет рекомендации для user_id=154 из <function get_lvl_2_recommendations at 0x0000027907C67828>, возвращаем 5 из наилучших для lvl_2\n",
      "Недостаточно рекомендации для user_id=154 из <function get_lvl_2_recommendations at 0x0000027907C67828>, добавляем 5 из наилучших для lvl_2\n",
      "Нет рекомендации для user_id=163 из <function get_lvl_2_recommendations at 0x0000027907C67828>, возвращаем 5 из наилучших для lvl_2\n",
      "Недостаточно рекомендации для user_id=163 из <function get_lvl_2_recommendations at 0x0000027907C67828>, добавляем 5 из наилучших для lvl_2\n",
      "Нет рекомендации для user_id=206 из <function get_lvl_2_recommendations at 0x0000027907C67828>, возвращаем 5 из наилучших для lvl_2\n",
      "Недостаточно рекомендации для user_id=206 из <function get_lvl_2_recommendations at 0x0000027907C67828>, добавляем 5 из наилучших для lvl_2\n",
      "Нет рекомендации для user_id=237 из <function get_lvl_2_recommendations at 0x0000027907C67828>, возвращаем 5 из наилучших для lvl_2\n",
      "Недостаточно рекомендации для user_id=237 из <function get_lvl_2_recommendations at 0x0000027907C67828>, добавляем 5 из наилучших для lvl_2\n",
      "Нет рекомендации для user_id=240 из <function get_lvl_2_recommendations at 0x0000027907C67828>, возвращаем 5 из наилучших для lvl_2\n",
      "Недостаточно рекомендации для user_id=240 из <function get_lvl_2_recommendations at 0x0000027907C67828>, добавляем 5 из наилучших для lvl_2\n",
      "Нет рекомендации для user_id=261 из <function get_lvl_2_recommendations at 0x0000027907C67828>, возвращаем 5 из наилучших для lvl_2\n",
      "Недостаточно рекомендации для user_id=261 из <function get_lvl_2_recommendations at 0x0000027907C67828>, добавляем 5 из наилучших для lvl_2\n",
      "Нет рекомендации для user_id=341 из <function get_lvl_2_recommendations at 0x0000027907C67828>, возвращаем 5 из наилучших для lvl_2\n",
      "Недостаточно рекомендации для user_id=341 из <function get_lvl_2_recommendations at 0x0000027907C67828>, добавляем 5 из наилучших для lvl_2\n",
      "Нет рекомендации для user_id=347 из <function get_lvl_2_recommendations at 0x0000027907C67828>, возвращаем 5 из наилучших для lvl_2\n",
      "Недостаточно рекомендации для user_id=347 из <function get_lvl_2_recommendations at 0x0000027907C67828>, добавляем 5 из наилучших для lvl_2\n",
      "Нет рекомендации для user_id=364 из <function get_lvl_2_recommendations at 0x0000027907C67828>, возвращаем 5 из наилучших для lvl_2\n",
      "Недостаточно рекомендации для user_id=364 из <function get_lvl_2_recommendations at 0x0000027907C67828>, добавляем 5 из наилучших для lvl_2\n",
      "Нет рекомендации для user_id=399 из <function get_lvl_2_recommendations at 0x0000027907C67828>, возвращаем 5 из наилучших для lvl_2\n",
      "Недостаточно рекомендации для user_id=399 из <function get_lvl_2_recommendations at 0x0000027907C67828>, добавляем 5 из наилучших для lvl_2\n",
      "Нет рекомендации для user_id=420 из <function get_lvl_2_recommendations at 0x0000027907C67828>, возвращаем 5 из наилучших для lvl_2\n",
      "Недостаточно рекомендации для user_id=420 из <function get_lvl_2_recommendations at 0x0000027907C67828>, добавляем 5 из наилучших для lvl_2\n",
      "Нет рекомендации для user_id=446 из <function get_lvl_2_recommendations at 0x0000027907C67828>, возвращаем 5 из наилучших для lvl_2\n",
      "Недостаточно рекомендации для user_id=446 из <function get_lvl_2_recommendations at 0x0000027907C67828>, добавляем 5 из наилучших для lvl_2\n",
      "Нет рекомендации для user_id=452 из <function get_lvl_2_recommendations at 0x0000027907C67828>, возвращаем 5 из наилучших для lvl_2\n",
      "Недостаточно рекомендации для user_id=452 из <function get_lvl_2_recommendations at 0x0000027907C67828>, добавляем 5 из наилучших для lvl_2\n",
      "Нет рекомендации для user_id=471 из <function get_lvl_2_recommendations at 0x0000027907C67828>, возвращаем 5 из наилучших для lvl_2\n",
      "Недостаточно рекомендации для user_id=471 из <function get_lvl_2_recommendations at 0x0000027907C67828>, добавляем 5 из наилучших для lvl_2\n",
      "Нет рекомендации для user_id=472 из <function get_lvl_2_recommendations at 0x0000027907C67828>, возвращаем 5 из наилучших для lvl_2\n",
      "Недостаточно рекомендации для user_id=472 из <function get_lvl_2_recommendations at 0x0000027907C67828>, добавляем 5 из наилучших для lvl_2\n",
      "Нет рекомендации для user_id=477 из <function get_lvl_2_recommendations at 0x0000027907C67828>, возвращаем 5 из наилучших для lvl_2\n",
      "Недостаточно рекомендации для user_id=477 из <function get_lvl_2_recommendations at 0x0000027907C67828>, добавляем 5 из наилучших для lvl_2\n",
      "Нет рекомендации для user_id=482 из <function get_lvl_2_recommendations at 0x0000027907C67828>, возвращаем 5 из наилучших для lvl_2\n",
      "Недостаточно рекомендации для user_id=482 из <function get_lvl_2_recommendations at 0x0000027907C67828>, добавляем 5 из наилучших для lvl_2\n",
      "Нет рекомендации для user_id=488 из <function get_lvl_2_recommendations at 0x0000027907C67828>, возвращаем 5 из наилучших для lvl_2\n",
      "Недостаточно рекомендации для user_id=488 из <function get_lvl_2_recommendations at 0x0000027907C67828>, добавляем 5 из наилучших для lvl_2\n",
      "Нет рекомендации для user_id=512 из <function get_lvl_2_recommendations at 0x0000027907C67828>, возвращаем 5 из наилучших для lvl_2\n",
      "Недостаточно рекомендации для user_id=512 из <function get_lvl_2_recommendations at 0x0000027907C67828>, добавляем 5 из наилучших для lvl_2\n",
      "Нет рекомендации для user_id=532 из <function get_lvl_2_recommendations at 0x0000027907C67828>, возвращаем 5 из наилучших для lvl_2\n",
      "Недостаточно рекомендации для user_id=532 из <function get_lvl_2_recommendations at 0x0000027907C67828>, добавляем 5 из наилучших для lvl_2\n",
      "Нет рекомендации для user_id=550 из <function get_lvl_2_recommendations at 0x0000027907C67828>, возвращаем 5 из наилучших для lvl_2\n",
      "Недостаточно рекомендации для user_id=550 из <function get_lvl_2_recommendations at 0x0000027907C67828>, добавляем 5 из наилучших для lvl_2\n",
      "Нет рекомендации для user_id=570 из <function get_lvl_2_recommendations at 0x0000027907C67828>, возвращаем 5 из наилучших для lvl_2\n",
      "Недостаточно рекомендации для user_id=570 из <function get_lvl_2_recommendations at 0x0000027907C67828>, добавляем 5 из наилучших для lvl_2\n",
      "Нет рекомендации для user_id=599 из <function get_lvl_2_recommendations at 0x0000027907C67828>, возвращаем 5 из наилучших для lvl_2\n",
      "Недостаточно рекомендации для user_id=599 из <function get_lvl_2_recommendations at 0x0000027907C67828>, добавляем 5 из наилучших для lvl_2\n",
      "Нет рекомендации для user_id=610 из <function get_lvl_2_recommendations at 0x0000027907C67828>, возвращаем 5 из наилучших для lvl_2\n",
      "Недостаточно рекомендации для user_id=610 из <function get_lvl_2_recommendations at 0x0000027907C67828>, добавляем 5 из наилучших для lvl_2\n",
      "Нет рекомендации для user_id=640 из <function get_lvl_2_recommendations at 0x0000027907C67828>, возвращаем 5 из наилучших для lvl_2\n",
      "Недостаточно рекомендации для user_id=640 из <function get_lvl_2_recommendations at 0x0000027907C67828>, добавляем 5 из наилучших для lvl_2\n",
      "Нет рекомендации для user_id=677 из <function get_lvl_2_recommendations at 0x0000027907C67828>, возвращаем 5 из наилучших для lvl_2\n",
      "Недостаточно рекомендации для user_id=677 из <function get_lvl_2_recommendations at 0x0000027907C67828>, добавляем 5 из наилучших для lvl_2\n",
      "Нет рекомендации для user_id=774 из <function get_lvl_2_recommendations at 0x0000027907C67828>, возвращаем 5 из наилучших для lvl_2\n",
      "Недостаточно рекомендации для user_id=774 из <function get_lvl_2_recommendations at 0x0000027907C67828>, добавляем 5 из наилучших для lvl_2\n",
      "Нет рекомендации для user_id=780 из <function get_lvl_2_recommendations at 0x0000027907C67828>, возвращаем 5 из наилучших для lvl_2\n",
      "Недостаточно рекомендации для user_id=780 из <function get_lvl_2_recommendations at 0x0000027907C67828>, добавляем 5 из наилучших для lvl_2\n",
      "Нет рекомендации для user_id=792 из <function get_lvl_2_recommendations at 0x0000027907C67828>, возвращаем 5 из наилучших для lvl_2\n",
      "Недостаточно рекомендации для user_id=792 из <function get_lvl_2_recommendations at 0x0000027907C67828>, добавляем 5 из наилучших для lvl_2\n",
      "Нет рекомендации для user_id=795 из <function get_lvl_2_recommendations at 0x0000027907C67828>, возвращаем 5 из наилучших для lvl_2\n",
      "Недостаточно рекомендации для user_id=795 из <function get_lvl_2_recommendations at 0x0000027907C67828>, добавляем 5 из наилучших для lvl_2\n",
      "Нет рекомендации для user_id=822 из <function get_lvl_2_recommendations at 0x0000027907C67828>, возвращаем 5 из наилучших для lvl_2\n",
      "Недостаточно рекомендации для user_id=822 из <function get_lvl_2_recommendations at 0x0000027907C67828>, добавляем 5 из наилучших для lvl_2\n",
      "Нет рекомендации для user_id=832 из <function get_lvl_2_recommendations at 0x0000027907C67828>, возвращаем 5 из наилучших для lvl_2\n",
      "Недостаточно рекомендации для user_id=832 из <function get_lvl_2_recommendations at 0x0000027907C67828>, добавляем 5 из наилучших для lvl_2\n",
      "Нет рекомендации для user_id=839 из <function get_lvl_2_recommendations at 0x0000027907C67828>, возвращаем 5 из наилучших для lvl_2\n",
      "Недостаточно рекомендации для user_id=839 из <function get_lvl_2_recommendations at 0x0000027907C67828>, добавляем 5 из наилучших для lvl_2\n",
      "Нет рекомендации для user_id=851 из <function get_lvl_2_recommendations at 0x0000027907C67828>, возвращаем 5 из наилучших для lvl_2\n",
      "Недостаточно рекомендации для user_id=851 из <function get_lvl_2_recommendations at 0x0000027907C67828>, добавляем 5 из наилучших для lvl_2\n",
      "Нет рекомендации для user_id=860 из <function get_lvl_2_recommendations at 0x0000027907C67828>, возвращаем 5 из наилучших для lvl_2\n",
      "Недостаточно рекомендации для user_id=860 из <function get_lvl_2_recommendations at 0x0000027907C67828>, добавляем 5 из наилучших для lvl_2\n",
      "Нет рекомендации для user_id=861 из <function get_lvl_2_recommendations at 0x0000027907C67828>, возвращаем 5 из наилучших для lvl_2\n",
      "Недостаточно рекомендации для user_id=861 из <function get_lvl_2_recommendations at 0x0000027907C67828>, добавляем 5 из наилучших для lvl_2\n",
      "Нет рекомендации для user_id=881 из <function get_lvl_2_recommendations at 0x0000027907C67828>, возвращаем 5 из наилучших для lvl_2\n",
      "Недостаточно рекомендации для user_id=881 из <function get_lvl_2_recommendations at 0x0000027907C67828>, добавляем 5 из наилучших для lvl_2\n",
      "Нет рекомендации для user_id=884 из <function get_lvl_2_recommendations at 0x0000027907C67828>, возвращаем 5 из наилучших для lvl_2\n",
      "Недостаточно рекомендации для user_id=884 из <function get_lvl_2_recommendations at 0x0000027907C67828>, добавляем 5 из наилучших для lvl_2\n",
      "Нет рекомендации для user_id=899 из <function get_lvl_2_recommendations at 0x0000027907C67828>, возвращаем 5 из наилучших для lvl_2\n",
      "Недостаточно рекомендации для user_id=899 из <function get_lvl_2_recommendations at 0x0000027907C67828>, добавляем 5 из наилучших для lvl_2\n",
      "Нет рекомендации для user_id=903 из <function get_lvl_2_recommendations at 0x0000027907C67828>, возвращаем 5 из наилучших для lvl_2\n",
      "Недостаточно рекомендации для user_id=903 из <function get_lvl_2_recommendations at 0x0000027907C67828>, добавляем 5 из наилучших для lvl_2\n",
      "Нет рекомендации для user_id=935 из <function get_lvl_2_recommendations at 0x0000027907C67828>, возвращаем 5 из наилучших для lvl_2\n",
      "Недостаточно рекомендации для user_id=935 из <function get_lvl_2_recommendations at 0x0000027907C67828>, добавляем 5 из наилучших для lvl_2\n",
      "Нет рекомендации для user_id=974 из <function get_lvl_2_recommendations at 0x0000027907C67828>, возвращаем 5 из наилучших для lvl_2\n",
      "Недостаточно рекомендации для user_id=974 из <function get_lvl_2_recommendations at 0x0000027907C67828>, добавляем 5 из наилучших для lvl_2\n",
      "Нет рекомендации для user_id=994 из <function get_lvl_2_recommendations at 0x0000027907C67828>, возвращаем 5 из наилучших для lvl_2\n",
      "Недостаточно рекомендации для user_id=994 из <function get_lvl_2_recommendations at 0x0000027907C67828>, добавляем 5 из наилучших для lvl_2\n",
      "Нет рекомендации для user_id=1030 из <function get_lvl_2_recommendations at 0x0000027907C67828>, возвращаем 5 из наилучших для lvl_2\n",
      "Недостаточно рекомендации для user_id=1030 из <function get_lvl_2_recommendations at 0x0000027907C67828>, добавляем 5 из наилучших для lvl_2\n",
      "Нет рекомендации для user_id=1034 из <function get_lvl_2_recommendations at 0x0000027907C67828>, возвращаем 5 из наилучших для lvl_2\n",
      "Недостаточно рекомендации для user_id=1034 из <function get_lvl_2_recommendations at 0x0000027907C67828>, добавляем 5 из наилучших для lvl_2\n",
      "Нет рекомендации для user_id=1036 из <function get_lvl_2_recommendations at 0x0000027907C67828>, возвращаем 5 из наилучших для lvl_2\n",
      "Недостаточно рекомендации для user_id=1036 из <function get_lvl_2_recommendations at 0x0000027907C67828>, добавляем 5 из наилучших для lvl_2\n",
      "Нет рекомендации для user_id=1048 из <function get_lvl_2_recommendations at 0x0000027907C67828>, возвращаем 5 из наилучших для lvl_2\n",
      "Недостаточно рекомендации для user_id=1048 из <function get_lvl_2_recommendations at 0x0000027907C67828>, добавляем 5 из наилучших для lvl_2\n",
      "Нет рекомендации для user_id=1079 из <function get_lvl_2_recommendations at 0x0000027907C67828>, возвращаем 5 из наилучших для lvl_2\n",
      "Недостаточно рекомендации для user_id=1079 из <function get_lvl_2_recommendations at 0x0000027907C67828>, добавляем 5 из наилучших для lvl_2\n",
      "Нет рекомендации для user_id=1095 из <function get_lvl_2_recommendations at 0x0000027907C67828>, возвращаем 5 из наилучших для lvl_2\n",
      "Недостаточно рекомендации для user_id=1095 из <function get_lvl_2_recommendations at 0x0000027907C67828>, добавляем 5 из наилучших для lvl_2\n",
      "Нет рекомендации для user_id=1101 из <function get_lvl_2_recommendations at 0x0000027907C67828>, возвращаем 5 из наилучших для lvl_2\n",
      "Недостаточно рекомендации для user_id=1101 из <function get_lvl_2_recommendations at 0x0000027907C67828>, добавляем 5 из наилучших для lvl_2\n",
      "Нет рекомендации для user_id=1105 из <function get_lvl_2_recommendations at 0x0000027907C67828>, возвращаем 5 из наилучших для lvl_2\n",
      "Недостаточно рекомендации для user_id=1105 из <function get_lvl_2_recommendations at 0x0000027907C67828>, добавляем 5 из наилучших для lvl_2\n",
      "Нет рекомендации для user_id=1170 из <function get_lvl_2_recommendations at 0x0000027907C67828>, возвращаем 5 из наилучших для lvl_2\n",
      "Недостаточно рекомендации для user_id=1170 из <function get_lvl_2_recommendations at 0x0000027907C67828>, добавляем 5 из наилучших для lvl_2\n",
      "Нет рекомендации для user_id=1235 из <function get_lvl_2_recommendations at 0x0000027907C67828>, возвращаем 5 из наилучших для lvl_2\n",
      "Недостаточно рекомендации для user_id=1235 из <function get_lvl_2_recommendations at 0x0000027907C67828>, добавляем 5 из наилучших для lvl_2\n",
      "Нет рекомендации для user_id=1241 из <function get_lvl_2_recommendations at 0x0000027907C67828>, возвращаем 5 из наилучших для lvl_2\n",
      "Недостаточно рекомендации для user_id=1241 из <function get_lvl_2_recommendations at 0x0000027907C67828>, добавляем 5 из наилучших для lvl_2\n",
      "Нет рекомендации для user_id=1242 из <function get_lvl_2_recommendations at 0x0000027907C67828>, возвращаем 5 из наилучших для lvl_2\n",
      "Недостаточно рекомендации для user_id=1242 из <function get_lvl_2_recommendations at 0x0000027907C67828>, добавляем 5 из наилучших для lvl_2\n",
      "Нет рекомендации для user_id=1254 из <function get_lvl_2_recommendations at 0x0000027907C67828>, возвращаем 5 из наилучших для lvl_2\n",
      "Недостаточно рекомендации для user_id=1254 из <function get_lvl_2_recommendations at 0x0000027907C67828>, добавляем 5 из наилучших для lvl_2\n",
      "Нет рекомендации для user_id=1276 из <function get_lvl_2_recommendations at 0x0000027907C67828>, возвращаем 5 из наилучших для lvl_2\n",
      "Недостаточно рекомендации для user_id=1276 из <function get_lvl_2_recommendations at 0x0000027907C67828>, добавляем 5 из наилучших для lvl_2\n",
      "Нет рекомендации для user_id=1278 из <function get_lvl_2_recommendations at 0x0000027907C67828>, возвращаем 5 из наилучших для lvl_2\n",
      "Недостаточно рекомендации для user_id=1278 из <function get_lvl_2_recommendations at 0x0000027907C67828>, добавляем 5 из наилучших для lvl_2\n",
      "Нет рекомендации для user_id=1280 из <function get_lvl_2_recommendations at 0x0000027907C67828>, возвращаем 5 из наилучших для lvl_2\n",
      "Недостаточно рекомендации для user_id=1280 из <function get_lvl_2_recommendations at 0x0000027907C67828>, добавляем 5 из наилучших для lvl_2\n",
      "Нет рекомендации для user_id=1342 из <function get_lvl_2_recommendations at 0x0000027907C67828>, возвращаем 5 из наилучших для lvl_2\n",
      "Недостаточно рекомендации для user_id=1342 из <function get_lvl_2_recommendations at 0x0000027907C67828>, добавляем 5 из наилучших для lvl_2\n",
      "Нет рекомендации для user_id=1360 из <function get_lvl_2_recommendations at 0x0000027907C67828>, возвращаем 5 из наилучших для lvl_2\n",
      "Недостаточно рекомендации для user_id=1360 из <function get_lvl_2_recommendations at 0x0000027907C67828>, добавляем 5 из наилучших для lvl_2\n",
      "Нет рекомендации для user_id=1361 из <function get_lvl_2_recommendations at 0x0000027907C67828>, возвращаем 5 из наилучших для lvl_2\n",
      "Недостаточно рекомендации для user_id=1361 из <function get_lvl_2_recommendations at 0x0000027907C67828>, добавляем 5 из наилучших для lvl_2\n",
      "Нет рекомендации для user_id=1386 из <function get_lvl_2_recommendations at 0x0000027907C67828>, возвращаем 5 из наилучших для lvl_2\n",
      "Недостаточно рекомендации для user_id=1386 из <function get_lvl_2_recommendations at 0x0000027907C67828>, добавляем 5 из наилучших для lvl_2\n",
      "Нет рекомендации для user_id=1403 из <function get_lvl_2_recommendations at 0x0000027907C67828>, возвращаем 5 из наилучших для lvl_2\n",
      "Недостаточно рекомендации для user_id=1403 из <function get_lvl_2_recommendations at 0x0000027907C67828>, добавляем 5 из наилучших для lvl_2\n",
      "Нет рекомендации для user_id=1438 из <function get_lvl_2_recommendations at 0x0000027907C67828>, возвращаем 5 из наилучших для lvl_2\n",
      "Недостаточно рекомендации для user_id=1438 из <function get_lvl_2_recommendations at 0x0000027907C67828>, добавляем 5 из наилучших для lvl_2\n",
      "Нет рекомендации для user_id=1439 из <function get_lvl_2_recommendations at 0x0000027907C67828>, возвращаем 5 из наилучших для lvl_2\n",
      "Недостаточно рекомендации для user_id=1439 из <function get_lvl_2_recommendations at 0x0000027907C67828>, добавляем 5 из наилучших для lvl_2\n",
      "Нет рекомендации для user_id=1448 из <function get_lvl_2_recommendations at 0x0000027907C67828>, возвращаем 5 из наилучших для lvl_2\n",
      "Недостаточно рекомендации для user_id=1448 из <function get_lvl_2_recommendations at 0x0000027907C67828>, добавляем 5 из наилучших для lvl_2\n",
      "Нет рекомендации для user_id=1466 из <function get_lvl_2_recommendations at 0x0000027907C67828>, возвращаем 5 из наилучших для lvl_2\n",
      "Недостаточно рекомендации для user_id=1466 из <function get_lvl_2_recommendations at 0x0000027907C67828>, добавляем 5 из наилучших для lvl_2\n",
      "Нет рекомендации для user_id=1496 из <function get_lvl_2_recommendations at 0x0000027907C67828>, возвращаем 5 из наилучших для lvl_2\n",
      "Недостаточно рекомендации для user_id=1496 из <function get_lvl_2_recommendations at 0x0000027907C67828>, добавляем 5 из наилучших для lvl_2\n",
      "Нет рекомендации для user_id=1521 из <function get_lvl_2_recommendations at 0x0000027907C67828>, возвращаем 5 из наилучших для lvl_2\n",
      "Недостаточно рекомендации для user_id=1521 из <function get_lvl_2_recommendations at 0x0000027907C67828>, добавляем 5 из наилучших для lvl_2\n",
      "Нет рекомендации для user_id=1569 из <function get_lvl_2_recommendations at 0x0000027907C67828>, возвращаем 5 из наилучших для lvl_2\n",
      "Недостаточно рекомендации для user_id=1569 из <function get_lvl_2_recommendations at 0x0000027907C67828>, добавляем 5 из наилучших для lvl_2\n",
      "Нет рекомендации для user_id=1583 из <function get_lvl_2_recommendations at 0x0000027907C67828>, возвращаем 5 из наилучших для lvl_2\n",
      "Недостаточно рекомендации для user_id=1583 из <function get_lvl_2_recommendations at 0x0000027907C67828>, добавляем 5 из наилучших для lvl_2\n",
      "Нет рекомендации для user_id=1608 из <function get_lvl_2_recommendations at 0x0000027907C67828>, возвращаем 5 из наилучших для lvl_2\n",
      "Недостаточно рекомендации для user_id=1608 из <function get_lvl_2_recommendations at 0x0000027907C67828>, добавляем 5 из наилучших для lvl_2\n",
      "Нет рекомендации для user_id=1615 из <function get_lvl_2_recommendations at 0x0000027907C67828>, возвращаем 5 из наилучших для lvl_2\n",
      "Недостаточно рекомендации для user_id=1615 из <function get_lvl_2_recommendations at 0x0000027907C67828>, добавляем 5 из наилучших для lvl_2\n",
      "Нет рекомендации для user_id=1617 из <function get_lvl_2_recommendations at 0x0000027907C67828>, возвращаем 5 из наилучших для lvl_2\n",
      "Недостаточно рекомендации для user_id=1617 из <function get_lvl_2_recommendations at 0x0000027907C67828>, добавляем 5 из наилучших для lvl_2\n",
      "Нет рекомендации для user_id=1636 из <function get_lvl_2_recommendations at 0x0000027907C67828>, возвращаем 5 из наилучших для lvl_2\n",
      "Недостаточно рекомендации для user_id=1636 из <function get_lvl_2_recommendations at 0x0000027907C67828>, добавляем 5 из наилучших для lvl_2\n",
      "Нет рекомендации для user_id=1641 из <function get_lvl_2_recommendations at 0x0000027907C67828>, возвращаем 5 из наилучших для lvl_2\n",
      "Недостаточно рекомендации для user_id=1641 из <function get_lvl_2_recommendations at 0x0000027907C67828>, добавляем 5 из наилучших для lvl_2\n",
      "Нет рекомендации для user_id=1688 из <function get_lvl_2_recommendations at 0x0000027907C67828>, возвращаем 5 из наилучших для lvl_2\n",
      "Недостаточно рекомендации для user_id=1688 из <function get_lvl_2_recommendations at 0x0000027907C67828>, добавляем 5 из наилучших для lvl_2\n",
      "Нет рекомендации для user_id=1701 из <function get_lvl_2_recommendations at 0x0000027907C67828>, возвращаем 5 из наилучших для lvl_2\n",
      "Недостаточно рекомендации для user_id=1701 из <function get_lvl_2_recommendations at 0x0000027907C67828>, добавляем 5 из наилучших для lvl_2\n",
      "Нет рекомендации для user_id=1711 из <function get_lvl_2_recommendations at 0x0000027907C67828>, возвращаем 5 из наилучших для lvl_2\n",
      "Недостаточно рекомендации для user_id=1711 из <function get_lvl_2_recommendations at 0x0000027907C67828>, добавляем 5 из наилучших для lvl_2\n",
      "Нет рекомендации для user_id=1714 из <function get_lvl_2_recommendations at 0x0000027907C67828>, возвращаем 5 из наилучших для lvl_2\n",
      "Недостаточно рекомендации для user_id=1714 из <function get_lvl_2_recommendations at 0x0000027907C67828>, добавляем 5 из наилучших для lvl_2\n",
      "Нет рекомендации для user_id=1750 из <function get_lvl_2_recommendations at 0x0000027907C67828>, возвращаем 5 из наилучших для lvl_2\n",
      "Недостаточно рекомендации для user_id=1750 из <function get_lvl_2_recommendations at 0x0000027907C67828>, добавляем 5 из наилучших для lvl_2\n",
      "Нет рекомендации для user_id=1771 из <function get_lvl_2_recommendations at 0x0000027907C67828>, возвращаем 5 из наилучших для lvl_2\n",
      "Недостаточно рекомендации для user_id=1771 из <function get_lvl_2_recommendations at 0x0000027907C67828>, добавляем 5 из наилучших для lvl_2\n",
      "Нет рекомендации для user_id=1793 из <function get_lvl_2_recommendations at 0x0000027907C67828>, возвращаем 5 из наилучших для lvl_2\n",
      "Недостаточно рекомендации для user_id=1793 из <function get_lvl_2_recommendations at 0x0000027907C67828>, добавляем 5 из наилучших для lvl_2\n",
      "Нет рекомендации для user_id=1842 из <function get_lvl_2_recommendations at 0x0000027907C67828>, возвращаем 5 из наилучших для lvl_2\n",
      "Недостаточно рекомендации для user_id=1842 из <function get_lvl_2_recommendations at 0x0000027907C67828>, добавляем 5 из наилучших для lvl_2\n",
      "Нет рекомендации для user_id=1851 из <function get_lvl_2_recommendations at 0x0000027907C67828>, возвращаем 5 из наилучших для lvl_2\n",
      "Недостаточно рекомендации для user_id=1851 из <function get_lvl_2_recommendations at 0x0000027907C67828>, добавляем 5 из наилучших для lvl_2\n",
      "Нет рекомендации для user_id=1868 из <function get_lvl_2_recommendations at 0x0000027907C67828>, возвращаем 5 из наилучших для lvl_2\n",
      "Недостаточно рекомендации для user_id=1868 из <function get_lvl_2_recommendations at 0x0000027907C67828>, добавляем 5 из наилучших для lvl_2\n",
      "Нет рекомендации для user_id=1886 из <function get_lvl_2_recommendations at 0x0000027907C67828>, возвращаем 5 из наилучших для lvl_2\n",
      "Недостаточно рекомендации для user_id=1886 из <function get_lvl_2_recommendations at 0x0000027907C67828>, добавляем 5 из наилучших для lvl_2\n",
      "Нет рекомендации для user_id=1889 из <function get_lvl_2_recommendations at 0x0000027907C67828>, возвращаем 5 из наилучших для lvl_2\n",
      "Недостаточно рекомендации для user_id=1889 из <function get_lvl_2_recommendations at 0x0000027907C67828>, добавляем 5 из наилучших для lvl_2\n",
      "Нет рекомендации для user_id=1932 из <function get_lvl_2_recommendations at 0x0000027907C67828>, возвращаем 5 из наилучших для lvl_2\n",
      "Недостаточно рекомендации для user_id=1932 из <function get_lvl_2_recommendations at 0x0000027907C67828>, добавляем 5 из наилучших для lvl_2\n",
      "Нет рекомендации для user_id=1959 из <function get_lvl_2_recommendations at 0x0000027907C67828>, возвращаем 5 из наилучших для lvl_2\n",
      "Недостаточно рекомендации для user_id=1959 из <function get_lvl_2_recommendations at 0x0000027907C67828>, добавляем 5 из наилучших для lvl_2\n",
      "Нет рекомендации для user_id=1977 из <function get_lvl_2_recommendations at 0x0000027907C67828>, возвращаем 5 из наилучших для lvl_2\n",
      "Недостаточно рекомендации для user_id=1977 из <function get_lvl_2_recommendations at 0x0000027907C67828>, добавляем 5 из наилучших для lvl_2\n",
      "Нет рекомендации для user_id=1984 из <function get_lvl_2_recommendations at 0x0000027907C67828>, возвращаем 5 из наилучших для lvl_2\n",
      "Недостаточно рекомендации для user_id=1984 из <function get_lvl_2_recommendations at 0x0000027907C67828>, добавляем 5 из наилучших для lvl_2\n",
      "Нет рекомендации для user_id=2016 из <function get_lvl_2_recommendations at 0x0000027907C67828>, возвращаем 5 из наилучших для lvl_2\n",
      "Недостаточно рекомендации для user_id=2016 из <function get_lvl_2_recommendations at 0x0000027907C67828>, добавляем 5 из наилучших для lvl_2\n",
      "Нет рекомендации для user_id=2026 из <function get_lvl_2_recommendations at 0x0000027907C67828>, возвращаем 5 из наилучших для lvl_2\n",
      "Недостаточно рекомендации для user_id=2026 из <function get_lvl_2_recommendations at 0x0000027907C67828>, добавляем 5 из наилучших для lvl_2\n",
      "Нет рекомендации для user_id=2031 из <function get_lvl_2_recommendations at 0x0000027907C67828>, возвращаем 5 из наилучших для lvl_2\n",
      "Недостаточно рекомендации для user_id=2031 из <function get_lvl_2_recommendations at 0x0000027907C67828>, добавляем 5 из наилучших для lvl_2\n",
      "Нет рекомендации для user_id=2032 из <function get_lvl_2_recommendations at 0x0000027907C67828>, возвращаем 5 из наилучших для lvl_2\n",
      "Недостаточно рекомендации для user_id=2032 из <function get_lvl_2_recommendations at 0x0000027907C67828>, добавляем 5 из наилучших для lvl_2\n",
      "Нет рекомендации для user_id=2039 из <function get_lvl_2_recommendations at 0x0000027907C67828>, возвращаем 5 из наилучших для lvl_2\n",
      "Недостаточно рекомендации для user_id=2039 из <function get_lvl_2_recommendations at 0x0000027907C67828>, добавляем 5 из наилучших для lvl_2\n",
      "Нет рекомендации для user_id=2042 из <function get_lvl_2_recommendations at 0x0000027907C67828>, возвращаем 5 из наилучших для lvl_2\n",
      "Недостаточно рекомендации для user_id=2042 из <function get_lvl_2_recommendations at 0x0000027907C67828>, добавляем 5 из наилучших для lvl_2\n",
      "Нет рекомендации для user_id=2044 из <function get_lvl_2_recommendations at 0x0000027907C67828>, возвращаем 5 из наилучших для lvl_2\n",
      "Недостаточно рекомендации для user_id=2044 из <function get_lvl_2_recommendations at 0x0000027907C67828>, добавляем 5 из наилучших для lvl_2\n",
      "Нет рекомендации для user_id=2059 из <function get_lvl_2_recommendations at 0x0000027907C67828>, возвращаем 5 из наилучших для lvl_2\n",
      "Недостаточно рекомендации для user_id=2059 из <function get_lvl_2_recommendations at 0x0000027907C67828>, добавляем 5 из наилучших для lvl_2\n",
      "Нет рекомендации для user_id=2061 из <function get_lvl_2_recommendations at 0x0000027907C67828>, возвращаем 5 из наилучших для lvl_2\n",
      "Недостаточно рекомендации для user_id=2061 из <function get_lvl_2_recommendations at 0x0000027907C67828>, добавляем 5 из наилучших для lvl_2\n",
      "Нет рекомендации для user_id=2099 из <function get_lvl_2_recommendations at 0x0000027907C67828>, возвращаем 5 из наилучших для lvl_2\n",
      "Недостаточно рекомендации для user_id=2099 из <function get_lvl_2_recommendations at 0x0000027907C67828>, добавляем 5 из наилучших для lvl_2\n",
      "Нет рекомендации для user_id=2145 из <function get_lvl_2_recommendations at 0x0000027907C67828>, возвращаем 5 из наилучших для lvl_2\n",
      "Недостаточно рекомендации для user_id=2145 из <function get_lvl_2_recommendations at 0x0000027907C67828>, добавляем 5 из наилучших для lvl_2\n",
      "Нет рекомендации для user_id=2175 из <function get_lvl_2_recommendations at 0x0000027907C67828>, возвращаем 5 из наилучших для lvl_2\n",
      "Недостаточно рекомендации для user_id=2175 из <function get_lvl_2_recommendations at 0x0000027907C67828>, добавляем 5 из наилучших для lvl_2\n",
      "Нет рекомендации для user_id=2210 из <function get_lvl_2_recommendations at 0x0000027907C67828>, возвращаем 5 из наилучших для lvl_2\n",
      "Недостаточно рекомендации для user_id=2210 из <function get_lvl_2_recommendations at 0x0000027907C67828>, добавляем 5 из наилучших для lvl_2\n",
      "Нет рекомендации для user_id=2220 из <function get_lvl_2_recommendations at 0x0000027907C67828>, возвращаем 5 из наилучших для lvl_2\n",
      "Недостаточно рекомендации для user_id=2220 из <function get_lvl_2_recommendations at 0x0000027907C67828>, добавляем 5 из наилучших для lvl_2\n",
      "Нет рекомендации для user_id=2255 из <function get_lvl_2_recommendations at 0x0000027907C67828>, возвращаем 5 из наилучших для lvl_2\n",
      "Недостаточно рекомендации для user_id=2255 из <function get_lvl_2_recommendations at 0x0000027907C67828>, добавляем 5 из наилучших для lvl_2\n",
      "Нет рекомендации для user_id=2259 из <function get_lvl_2_recommendations at 0x0000027907C67828>, возвращаем 5 из наилучших для lvl_2\n",
      "Недостаточно рекомендации для user_id=2259 из <function get_lvl_2_recommendations at 0x0000027907C67828>, добавляем 5 из наилучших для lvl_2\n",
      "Нет рекомендации для user_id=2268 из <function get_lvl_2_recommendations at 0x0000027907C67828>, возвращаем 5 из наилучших для lvl_2\n",
      "Недостаточно рекомендации для user_id=2268 из <function get_lvl_2_recommendations at 0x0000027907C67828>, добавляем 5 из наилучших для lvl_2\n",
      "Нет рекомендации для user_id=2308 из <function get_lvl_2_recommendations at 0x0000027907C67828>, возвращаем 5 из наилучших для lvl_2\n",
      "Недостаточно рекомендации для user_id=2308 из <function get_lvl_2_recommendations at 0x0000027907C67828>, добавляем 5 из наилучших для lvl_2\n",
      "Нет рекомендации для user_id=2339 из <function get_lvl_2_recommendations at 0x0000027907C67828>, возвращаем 5 из наилучших для lvl_2\n",
      "Недостаточно рекомендации для user_id=2339 из <function get_lvl_2_recommendations at 0x0000027907C67828>, добавляем 5 из наилучших для lvl_2\n",
      "Нет рекомендации для user_id=2350 из <function get_lvl_2_recommendations at 0x0000027907C67828>, возвращаем 5 из наилучших для lvl_2\n",
      "Недостаточно рекомендации для user_id=2350 из <function get_lvl_2_recommendations at 0x0000027907C67828>, добавляем 5 из наилучших для lvl_2\n",
      "Нет рекомендации для user_id=2362 из <function get_lvl_2_recommendations at 0x0000027907C67828>, возвращаем 5 из наилучших для lvl_2\n",
      "Недостаточно рекомендации для user_id=2362 из <function get_lvl_2_recommendations at 0x0000027907C67828>, добавляем 5 из наилучших для lvl_2\n",
      "Нет рекомендации для user_id=2368 из <function get_lvl_2_recommendations at 0x0000027907C67828>, возвращаем 5 из наилучших для lvl_2\n",
      "Недостаточно рекомендации для user_id=2368 из <function get_lvl_2_recommendations at 0x0000027907C67828>, добавляем 5 из наилучших для lvl_2\n",
      "Нет рекомендации для user_id=2373 из <function get_lvl_2_recommendations at 0x0000027907C67828>, возвращаем 5 из наилучших для lvl_2\n",
      "Недостаточно рекомендации для user_id=2373 из <function get_lvl_2_recommendations at 0x0000027907C67828>, добавляем 5 из наилучших для lvl_2\n",
      "Нет рекомендации для user_id=2383 из <function get_lvl_2_recommendations at 0x0000027907C67828>, возвращаем 5 из наилучших для lvl_2\n",
      "Недостаточно рекомендации для user_id=2383 из <function get_lvl_2_recommendations at 0x0000027907C67828>, добавляем 5 из наилучших для lvl_2\n",
      "Нет рекомендации для user_id=2399 из <function get_lvl_2_recommendations at 0x0000027907C67828>, возвращаем 5 из наилучших для lvl_2\n",
      "Недостаточно рекомендации для user_id=2399 из <function get_lvl_2_recommendations at 0x0000027907C67828>, добавляем 5 из наилучших для lvl_2\n",
      "Нет рекомендации для user_id=2487 из <function get_lvl_2_recommendations at 0x0000027907C67828>, возвращаем 5 из наилучших для lvl_2\n",
      "Недостаточно рекомендации для user_id=2487 из <function get_lvl_2_recommendations at 0x0000027907C67828>, добавляем 5 из наилучших для lvl_2\n",
      "Нет рекомендации для user_id=2495 из <function get_lvl_2_recommendations at 0x0000027907C67828>, возвращаем 5 из наилучших для lvl_2\n",
      "Недостаточно рекомендации для user_id=2495 из <function get_lvl_2_recommendations at 0x0000027907C67828>, добавляем 5 из наилучших для lvl_2\n"
     ]
    },
    {
     "name": "stdout",
     "output_type": "stream",
     "text": [
      "Нет рекомендации для user_id=1984 из <bound method MainRecommender.get_als_recommendations of <src.recommenders.MainRecommender object at 0x000002790CD2BC08>>, возвращаем 5 из наилучших для lvl_2\n",
      "Недостаточно рекомендации для user_id=1984 из <bound method MainRecommender.get_als_recommendations of <src.recommenders.MainRecommender object at 0x000002790CD2BC08>>, добавляем 5 из наилучших для lvl_2\n",
      "Нет рекомендации для user_id=2259 из <bound method MainRecommender.get_als_recommendations of <src.recommenders.MainRecommender object at 0x000002790CD2BC08>>, возвращаем 5 из наилучших для lvl_2\n",
      "Недостаточно рекомендации для user_id=2259 из <bound method MainRecommender.get_als_recommendations of <src.recommenders.MainRecommender object at 0x000002790CD2BC08>>, добавляем 5 из наилучших для lvl_2\n"
     ]
    },
    {
     "data": {
      "text/html": [
       "<div>\n",
       "<style scoped>\n",
       "    .dataframe tbody tr th:only-of-type {\n",
       "        vertical-align: middle;\n",
       "    }\n",
       "\n",
       "    .dataframe tbody tr th {\n",
       "        vertical-align: top;\n",
       "    }\n",
       "\n",
       "    .dataframe thead th {\n",
       "        text-align: right;\n",
       "    }\n",
       "</style>\n",
       "<table border=\"1\" class=\"dataframe\">\n",
       "  <thead>\n",
       "    <tr style=\"text-align: right;\">\n",
       "      <th></th>\n",
       "      <th>user_id</th>\n",
       "      <th>actual</th>\n",
       "      <th>lvl_2</th>\n",
       "      <th>als</th>\n",
       "    </tr>\n",
       "  </thead>\n",
       "  <tbody>\n",
       "    <tr>\n",
       "      <th>0</th>\n",
       "      <td>1</td>\n",
       "      <td>[821867, 834484, 856942, 865456, 889248, 90795...</td>\n",
       "      <td>[7152319, 825123, 9296837, 979674, 936685]</td>\n",
       "      <td>[1037332, 1082212, 1055425, 885290, 912704]</td>\n",
       "    </tr>\n",
       "    <tr>\n",
       "      <th>1</th>\n",
       "      <td>3</td>\n",
       "      <td>[835476, 851057, 872021, 878302, 879948, 90963...</td>\n",
       "      <td>[819594, 1066869, 1080354, 13040302, 1043956]</td>\n",
       "      <td>[1044078, 1106523, 844179, 12301100, 1029743]</td>\n",
       "    </tr>\n",
       "  </tbody>\n",
       "</table>\n",
       "</div>"
      ],
      "text/plain": [
       "   user_id                                             actual  \\\n",
       "0        1  [821867, 834484, 856942, 865456, 889248, 90795...   \n",
       "1        3  [835476, 851057, 872021, 878302, 879948, 90963...   \n",
       "\n",
       "                                           lvl_2  \\\n",
       "0     [7152319, 825123, 9296837, 979674, 936685]   \n",
       "1  [819594, 1066869, 1080354, 13040302, 1043956]   \n",
       "\n",
       "                                             als  \n",
       "0    [1037332, 1082212, 1055425, 885290, 912704]  \n",
       "1  [1044078, 1106523, 844179, 12301100, 1029743]  "
      ]
     },
     "execution_count": 28,
     "metadata": {},
     "output_type": "execute_result"
    }
   ],
   "source": [
    "result_lvl_2['lvl_2'] = result_lvl_2['user_id'].apply(lambda u: get_recommendations(get_lvl_2_recommendations, u, 5))\n",
    "result_lvl_2['als'] = result_lvl_2['user_id'].apply(lambda u: get_recommendations(recommender.get_als_recommendations, u, 5))\n",
    "\n",
    "result_lvl_2.head(2)"
   ]
  },
  {
   "cell_type": "code",
   "execution_count": 29,
   "metadata": {},
   "outputs": [
    {
     "name": "stdout",
     "output_type": "stream",
     "text": [
      "Model: lvl_2, Mean precision@k = 0.014397649363369212\n",
      "Model: als, Mean precision@k = 0.09755142017629724\n"
     ]
    }
   ],
   "source": [
    "for model_name in ['lvl_2', 'als']:\n",
    "    mean_precision_at_k = result_lvl_2.apply(lambda row: precision_at_k(row[model_name], row['actual']), axis=1).mean()\n",
    "    print(f'Model: {model_name}, Mean precision@k = {mean_precision_at_k}')"
   ]
  },
  {
   "cell_type": "markdown",
   "metadata": {},
   "source": [
    "Результат lvl_2 пока плохой"
   ]
  },
  {
   "cell_type": "code",
   "execution_count": null,
   "metadata": {},
   "outputs": [],
   "source": []
  }
 ],
 "metadata": {
  "colab": {
   "name": "hw_webinar_6.ipynb",
   "provenance": []
  },
  "kernelspec": {
   "display_name": "Python 3",
   "language": "python",
   "name": "python3"
  },
  "language_info": {
   "codemirror_mode": {
    "name": "ipython",
    "version": 3
   },
   "file_extension": ".py",
   "mimetype": "text/x-python",
   "name": "python",
   "nbconvert_exporter": "python",
   "pygments_lexer": "ipython3",
   "version": "3.7.6"
  }
 },
 "nbformat": 4,
 "nbformat_minor": 4
}
