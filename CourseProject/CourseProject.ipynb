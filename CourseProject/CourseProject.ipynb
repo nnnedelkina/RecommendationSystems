{
 "cells": [
  {
   "cell_type": "code",
   "execution_count": 1,
   "metadata": {},
   "outputs": [],
   "source": [
    "import pandas as pd\n",
    "import numpy as np\n",
    "import matplotlib.pyplot as plt\n",
    "%matplotlib inline\n",
    "\n",
    "# Написанные нами функции\n",
    "from src.metrics import precision_at_k, recall_at_k\n",
    "from src.utils import prefilter_items\n",
    "from src.recommenders import Recommender"
   ]
  },
  {
   "cell_type": "code",
   "execution_count": 2,
   "metadata": {},
   "outputs": [],
   "source": [
    "production=True"
   ]
  },
  {
   "cell_type": "code",
   "execution_count": 3,
   "metadata": {},
   "outputs": [],
   "source": [
    "data = pd.read_csv('data/retail_train.csv')\n",
    "item_features = pd.read_csv('data/product.csv')\n",
    "user_features = pd.read_csv('data/hh_demographic.csv')\n",
    "\n",
    "# column processing\n",
    "item_features.columns = [col.lower() for col in item_features.columns]\n",
    "user_features.columns = [col.lower() for col in user_features.columns]\n",
    "\n",
    "item_features.rename(columns={'product_id': 'item_id'}, inplace=True)\n",
    "user_features.rename(columns={'household_key': 'user_id'}, inplace=True)"
   ]
  },
  {
   "cell_type": "code",
   "execution_count": 4,
   "metadata": {},
   "outputs": [
    {
     "name": "stdout",
     "output_type": "stream",
     "text": [
      "В тренировочном наборе 2396804 записей, в валидационном наборе 0\n"
     ]
    }
   ],
   "source": [
    "train, val = Recommender.split_by_weeks(data, 0 if production else 4)\n",
    "print(f\"В тренировочном наборе {len(train)} записей, в валидационном наборе {len(val)}\")"
   ]
  },
  {
   "cell_type": "code",
   "execution_count": 5,
   "metadata": {},
   "outputs": [
    {
     "name": "stdout",
     "output_type": "stream",
     "text": [
      "Число товаров уменьшено с 89051 до 5000\n",
      "В тренировочном наборе 1483107 записей\n"
     ]
    }
   ],
   "source": [
    "n_items_before = train['item_id'].nunique()\n",
    "\n",
    "train = prefilter_items(train, item_features=item_features, take_n_popular=5000)\n",
    "\n",
    "n_items_after = train['item_id'].nunique()\n",
    "print(f'Число товаров уменьшено с {n_items_before} до {n_items_after}')\n",
    "print(f\"В тренировочном наборе {len(train)} записей\")"
   ]
  },
  {
   "cell_type": "code",
   "execution_count": 6,
   "metadata": {},
   "outputs": [
    {
     "name": "stderr",
     "output_type": "stream",
     "text": [
      "WARNING:root:Intel MKL BLAS detected. Its highly recommend to set the environment variable 'export MKL_NUM_THREADS=1' to disable its internal multithreading\n"
     ]
    },
    {
     "data": {
      "application/vnd.jupyter.widget-view+json": {
       "model_id": "f29ef716895240548a12386d65a08797",
       "version_major": 2,
       "version_minor": 0
      },
      "text/plain": [
       "HBox(children=(FloatProgress(value=0.0, max=15.0), HTML(value='')))"
      ]
     },
     "metadata": {},
     "output_type": "display_data"
    },
    {
     "name": "stdout",
     "output_type": "stream",
     "text": [
      "\n"
     ]
    },
    {
     "data": {
      "application/vnd.jupyter.widget-view+json": {
       "model_id": "0c588e9973f1499491edeb58788304c1",
       "version_major": 2,
       "version_minor": 0
      },
      "text/plain": [
       "HBox(children=(FloatProgress(value=0.0, max=5000.0), HTML(value='')))"
      ]
     },
     "metadata": {},
     "output_type": "display_data"
    },
    {
     "name": "stdout",
     "output_type": "stream",
     "text": [
      "\n",
      "Подготовка 2-х уровневой модели ...\n",
      "Выделено 208972 из 1483107 записей для 12 последних недель.\n",
      "Обучение: подготовка списка всех пользователей с кандидатами (20 кандидатов для каждого пользователя) ...\n",
      "Обучение: подготовлено 49620 записей 2481 пользователей с кандидатами.\n",
      "Обучение: добавление признаков ...\n",
      "Обучение: добавление признаков завершено, число записей: 49587 ...\n",
      "Число записей для пользователей из 12 последних недель: 45358 ...\n",
      "Размер тренировочного набора: 63093\n",
      "1.0    33598\n",
      "0.0    29495\n",
      "Name: target, dtype: int64\n",
      "Категориальные признаки: ['department', 'brand', 'commodity_desc', 'sub_commodity_desc', 'curr_size_of_product', 'age_desc', 'marital_status_code', 'income_desc', 'homeowner_desc', 'hh_comp_desc', 'household_size_desc', 'kid_category_desc']\n",
      "Тренируем модель 2го уровня ...\n"
     ]
    },
    {
     "name": "stderr",
     "output_type": "stream",
     "text": [
      "C:\\ProgramData\\Anaconda3\\lib\\site-packages\\lightgbm\\basic.py:1551: UserWarning: Using categorical_feature in Dataset.\n",
      "  warnings.warn('Using categorical_feature in Dataset.')\n"
     ]
    },
    {
     "name": "stdout",
     "output_type": "stream",
     "text": [
      "Готовим рекомендации 2го уровня ...\n",
      "Предсказания: подготовка списка всех пользователей с кандидатами (50 кандидатов для каждого пользователя) ...\n",
      "Предсказания: подготовлено 124050 записей 2481 пользователей с кандидатами.\n",
      "Предсказания: добавление признаков ...\n",
      "Предсказания: добавление признаков завершено, число записей: 123718 ...\n",
      "Подготовка 2-х уровневой модели завершена\n"
     ]
    }
   ],
   "source": [
    "# вся модель в src.recommenders.Recommender\n",
    "recommender = Recommender(train, user_features, item_features, n_lvl_2_train_weeks=12, n_lvl_2_train_candidates=20, n_lvl_2_predict_candidates=50)"
   ]
  },
  {
   "cell_type": "code",
   "execution_count": 7,
   "metadata": {},
   "outputs": [
    {
     "name": "stdout",
     "output_type": "stream",
     "text": [
      "Нет рекомендации для user_id=62 для level=lvl_2, возвращаем 5 самых популярных\n",
      "Нет рекомендации для user_id=75 для level=lvl_2, возвращаем 5 самых популярных\n",
      "Нет рекомендации для user_id=650 для level=lvl_2, возвращаем 5 самых популярных\n",
      "Нет рекомендации для user_id=954 для level=lvl_2, возвращаем 5 самых популярных\n",
      "Нет рекомендации для user_id=1043 для level=lvl_2, возвращаем 5 самых популярных\n",
      "Нет рекомендации для user_id=1176 для level=lvl_2, возвращаем 5 самых популярных\n",
      "Нет рекомендации для user_id=2120 для level=lvl_2, возвращаем 5 самых популярных\n",
      "Нет рекомендации для user_id=2325 для level=lvl_2, возвращаем 5 самых популярных\n",
      "Нет рекомендации для user_id=2364 для level=lvl_2, возвращаем 5 самых популярных\n"
     ]
    }
   ],
   "source": [
    "if production:\n",
    "    test_users = pd.read_csv('data/test_users.csv')\n",
    "    test_users.columns=['UserId']\n",
    "    test_users['Predicted']=test_users['UserId'].apply(lambda u: ' '.join(map(str, recommender.get_recommendations('lvl_2', u, 5))))\n",
    "    test_users.to_csv('submission.csv', index=False)"
   ]
  },
  {
   "cell_type": "code",
   "execution_count": 8,
   "metadata": {},
   "outputs": [],
   "source": [
    "if not production:\n",
    "    result_val = val.groupby('user_id')['item_id'].unique().reset_index().copy()\n",
    "    result_val.columns=['user_id', 'actual']\n",
    "\n",
    "    for model_name in ['top', 'own', 'lvl_2']:\n",
    "        result_val[model_name] = result_val['user_id'].apply(lambda u: recommender.get_recommendations(model_name, u, 5))\n",
    "        result_val['p@k_' + model_name] = result_val.apply(lambda row: precision_at_k(row[model_name], row['actual']), axis=1)\n",
    "\n",
    "    for model_name in ['top', 'own', 'lvl_2']:\n",
    "        mean_precision_at_k = result_val['p@k_' + model_name].mean()\n",
    "        print(f'Model: {model_name}, Mean precision@k = {mean_precision_at_k}')"
   ]
  }
 ],
 "metadata": {
  "kernelspec": {
   "display_name": "Python 3",
   "language": "python",
   "name": "python3"
  },
  "language_info": {
   "codemirror_mode": {
    "name": "ipython",
    "version": 3
   },
   "file_extension": ".py",
   "mimetype": "text/x-python",
   "name": "python",
   "nbconvert_exporter": "python",
   "pygments_lexer": "ipython3",
   "version": "3.7.6"
  }
 },
 "nbformat": 4,
 "nbformat_minor": 4
}
