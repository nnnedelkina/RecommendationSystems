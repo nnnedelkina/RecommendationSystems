{
 "cells": [
  {
   "cell_type": "code",
   "execution_count": 1,
   "metadata": {},
   "outputs": [],
   "source": [
    "import pandas as pd\n",
    "import numpy as np\n",
    "import matplotlib.pyplot as plt\n",
    "%matplotlib inline\n",
    "\n",
    "# Написанные нами функции\n",
    "from src.metrics import precision_at_k, recall_at_k\n",
    "from src.utils import prefilter_items\n",
    "from src.recommenders import Recommender"
   ]
  },
  {
   "cell_type": "code",
   "execution_count": 2,
   "metadata": {},
   "outputs": [],
   "source": [
    "production=True"
   ]
  },
  {
   "cell_type": "code",
   "execution_count": 3,
   "metadata": {},
   "outputs": [],
   "source": [
    "data = pd.read_csv('data/retail_train.csv')\n",
    "item_features = pd.read_csv('data/product.csv')\n",
    "user_features = pd.read_csv('data/hh_demographic.csv')\n",
    "\n",
    "# column processing\n",
    "item_features.columns = [col.lower() for col in item_features.columns]\n",
    "user_features.columns = [col.lower() for col in user_features.columns]\n",
    "\n",
    "item_features.rename(columns={'product_id': 'item_id'}, inplace=True)\n",
    "user_features.rename(columns={'household_key': 'user_id'}, inplace=True)"
   ]
  },
  {
   "cell_type": "code",
   "execution_count": 4,
   "metadata": {},
   "outputs": [
    {
     "name": "stdout",
     "output_type": "stream",
     "text": [
      "В тренировочном наборе 2396804 записей, в валидационном наборе 0\n"
     ]
    }
   ],
   "source": [
    "train, val = Recommender.split_by_weeks(data, 0 if production else 4)\n",
    "print(f\"В тренировочном наборе {len(train)} записей, в валидационном наборе {len(val)}\")"
   ]
  },
  {
   "cell_type": "code",
   "execution_count": 5,
   "metadata": {},
   "outputs": [
    {
     "name": "stdout",
     "output_type": "stream",
     "text": [
      "Число товаров уменьшено с 89051 до 5000\n",
      "В тренировочном наборе 1083910 записей\n"
     ]
    }
   ],
   "source": [
    "n_items_before = train['item_id'].nunique()\n",
    "\n",
    "train = prefilter_items(train, item_features=item_features, take_n_popular=5000)\n",
    "\n",
    "n_items_after = train['item_id'].nunique()\n",
    "print(f'Число товаров уменьшено с {n_items_before} до {n_items_after}')\n",
    "print(f\"В тренировочном наборе {len(train)} записей\")"
   ]
  },
  {
   "cell_type": "code",
   "execution_count": 6,
   "metadata": {},
   "outputs": [
    {
     "name": "stderr",
     "output_type": "stream",
     "text": [
      "WARNING:root:Intel MKL BLAS detected. Its highly recommend to set the environment variable 'export MKL_NUM_THREADS=1' to disable its internal multithreading\n"
     ]
    },
    {
     "data": {
      "application/vnd.jupyter.widget-view+json": {
       "model_id": "db4f43a3e2464f939736251ce0b93c68",
       "version_major": 2,
       "version_minor": 0
      },
      "text/plain": [
       "HBox(children=(FloatProgress(value=0.0, max=15.0), HTML(value='')))"
      ]
     },
     "metadata": {},
     "output_type": "display_data"
    },
    {
     "name": "stdout",
     "output_type": "stream",
     "text": [
      "\n"
     ]
    },
    {
     "data": {
      "application/vnd.jupyter.widget-view+json": {
       "model_id": "6cbdc567a4684583bba79513ca1be1e0",
       "version_major": 2,
       "version_minor": 0
      },
      "text/plain": [
       "HBox(children=(FloatProgress(value=0.0, max=5000.0), HTML(value='')))"
      ]
     },
     "metadata": {},
     "output_type": "display_data"
    },
    {
     "name": "stdout",
     "output_type": "stream",
     "text": [
      "\n",
      "Подготовка 2-х уровневой модели ...\n",
      "Выделено 104875 из 1083910 записей для 8 последних недель.\n",
      "Подготовка списка всех пользователей с кандидатами (20 кандидатов для каждого пользователя) ...\n",
      "Подготовлено 49620 записей 2481 пользователей с кандидатами.\n",
      "Добавление признаков ...\n",
      "Добавление признаков завершено, число записей: 49580 ...\n",
      "Число записей для пользователей из 8 последних недель: 43021 ...\n",
      "Размер тренировочного набора: 50096\n",
      "0.0    32255\n",
      "1.0    17841\n",
      "Name: target, dtype: int64\n",
      "Категориальные признаки: ['department', 'brand', 'commodity_desc', 'sub_commodity_desc', 'curr_size_of_product', 'age_desc', 'marital_status_code', 'income_desc', 'homeowner_desc', 'hh_comp_desc', 'household_size_desc', 'kid_category_desc']\n",
      "Тренируем LGBMClassifier ...\n"
     ]
    },
    {
     "name": "stderr",
     "output_type": "stream",
     "text": [
      "C:\\ProgramData\\Anaconda3\\lib\\site-packages\\lightgbm\\basic.py:1551: UserWarning: Using categorical_feature in Dataset.\n",
      "  warnings.warn('Using categorical_feature in Dataset.')\n"
     ]
    },
    {
     "name": "stdout",
     "output_type": "stream",
     "text": [
      "Готовим рекомендации LGBMClassifier ...\n",
      "Подготовка 2-х уровневой модели завершена\n"
     ]
    }
   ],
   "source": [
    "# вся модель в src.recommenders.Recommender\n",
    "recommender = Recommender(train, user_features, item_features, n_lvl_2_train_weeks=8, n_lvl_2_candidates=20)"
   ]
  },
  {
   "cell_type": "code",
   "execution_count": 7,
   "metadata": {},
   "outputs": [
    {
     "name": "stdout",
     "output_type": "stream",
     "text": [
      "Нет рекомендации для user_id=62 для level=lvl_2, возвращаем 5 самых популярных\n",
      "Нет рекомендации для user_id=75 для level=lvl_2, возвращаем 5 самых популярных\n",
      "Нет рекомендации для user_id=650 для level=lvl_2, возвращаем 5 самых популярных\n",
      "Нет рекомендации для user_id=954 для level=lvl_2, возвращаем 5 самых популярных\n",
      "Нет рекомендации для user_id=1043 для level=lvl_2, возвращаем 5 самых популярных\n",
      "Нет рекомендации для user_id=2120 для level=lvl_2, возвращаем 5 самых популярных\n",
      "Нет рекомендации для user_id=2325 для level=lvl_2, возвращаем 5 самых популярных\n",
      "Нет рекомендации для user_id=2364 для level=lvl_2, возвращаем 5 самых популярных\n"
     ]
    }
   ],
   "source": [
    "if production:\n",
    "    test_users = pd.read_csv('data/test_users.csv')\n",
    "    test_users.columns=['UserId']\n",
    "    test_users['Predicted']=test_users['UserId'].apply(lambda u: ' '.join(map(str, recommender.get_recommendations('lvl_2', u, 5))))\n",
    "    test_users.to_csv('submission.csv', index=False)"
   ]
  },
  {
   "cell_type": "code",
   "execution_count": 8,
   "metadata": {},
   "outputs": [],
   "source": [
    "if not production:\n",
    "    result_val = val.groupby('user_id')['item_id'].unique().reset_index().copy()\n",
    "    result_val.columns=['user_id', 'actual']\n",
    "\n",
    "    for model_name in ['top', 'own', 'lvl_2']:\n",
    "        result_val[model_name] = result_val['user_id'].apply(lambda u: recommender.get_recommendations(model_name, u, 5))\n",
    "        result_val['p@k_' + model_name] = result_val.apply(lambda row: precision_at_k(row[model_name], row['actual']), axis=1)\n",
    "\n",
    "    for model_name in ['top', 'own', 'lvl_2']:\n",
    "        mean_precision_at_k = result_val['p@k_' + model_name].mean()\n",
    "        print(f'Model: {model_name}, Mean precision@k = {mean_precision_at_k}')"
   ]
  },
  {
   "cell_type": "code",
   "execution_count": 9,
   "metadata": {},
   "outputs": [],
   "source": [
    "# далее - код для внутреннего анализа\n",
    "if not production:\n",
    "    display(result_val.shape)\n",
    "    display(result_val[result_val['p@k_lvl_2'] < result_val['p@k_own']])\n",
    "    display(result_val[result_val['p@k_lvl_2'] == 0])\n",
    "\n",
    "    #result_val[result_val.apply(lambda row: precision_at_k(recommender.get_recommendations('own', row['user_id'], N=50), row['actual'], 50), axis=1) == 0]"
   ]
  },
  {
   "cell_type": "code",
   "execution_count": 10,
   "metadata": {},
   "outputs": [],
   "source": [
    "if not production:\n",
    "    uid = 26\n",
    "    val[val['user_id']==uid]"
   ]
  },
  {
   "cell_type": "code",
   "execution_count": 11,
   "metadata": {},
   "outputs": [],
   "source": [
    "if not production:\n",
    "    pass\n",
    "    #train[train['user_id']==uid].merge(val[val['user_id']==uid], on='item_id', how='inner')"
   ]
  },
  {
   "cell_type": "code",
   "execution_count": null,
   "metadata": {},
   "outputs": [],
   "source": []
  },
  {
   "cell_type": "code",
   "execution_count": null,
   "metadata": {},
   "outputs": [],
   "source": []
  }
 ],
 "metadata": {
  "kernelspec": {
   "display_name": "Python 3",
   "language": "python",
   "name": "python3"
  },
  "language_info": {
   "codemirror_mode": {
    "name": "ipython",
    "version": 3
   },
   "file_extension": ".py",
   "mimetype": "text/x-python",
   "name": "python",
   "nbconvert_exporter": "python",
   "pygments_lexer": "ipython3",
   "version": "3.7.6"
  }
 },
 "nbformat": 4,
 "nbformat_minor": 4
}
