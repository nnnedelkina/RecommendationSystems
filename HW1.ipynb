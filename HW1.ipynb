{
 "cells": [
  {
   "cell_type": "markdown",
   "metadata": {},
   "source": [
    "## ДЗ к уроку 1"
   ]
  },
  {
   "cell_type": "code",
   "execution_count": 1,
   "metadata": {},
   "outputs": [],
   "source": [
    "import numpy as np\n",
    "import pandas as pd"
   ]
  },
  {
   "cell_type": "code",
   "execution_count": 2,
   "metadata": {},
   "outputs": [],
   "source": [
    "df_goods = pd.DataFrame([\n",
    "             [156,  100, 1],\n",
    "             [1134, 200, 1],\n",
    "             [27,   150, 1],\n",
    "             [143,  100, 1],\n",
    "             [991,  800, 1],\n",
    "             [1543, 200, 1],\n",
    "             [3345, 100, 1],\n",
    "             [533,  300, 1],\n",
    "             [11,    50, 1],\n",
    "             [143,    3, 1],\n",
    "             [521,  550, 0],\n",
    "             [32,   450, 0],\n",
    "], columns=['id', 'price', 'is_recommended'])\n",
    "\n",
    "df_user_bought = pd.DataFrame([\n",
    "    [ 143, 1 ],\n",
    "    [ 143, 2 ],\n",
    "    [ 991, 2 ],\n",
    "    [ 991, 3 ],\n",
    "    [ 521, 1 ],\n",
    "    [ 521, 3 ],\n",
    "    [ 32,  2 ],\n",
    "], columns=['gid', 'uid'])\n",
    "\n",
    "\n",
    "df_recommended     = df_goods.loc[df_goods['is_recommended'] == 1]\n",
    "df_merge           = pd.merge(df_goods, df_user_bought, left_on=['id'], right_on=['gid'], how='right')\n",
    "df_bought          = df_merge.drop_duplicates('id') \n",
    "\n",
    "recommended_list   = df_recommended['id']\n",
    "prices_recommended = df_recommended['price']\n",
    "\n",
    "bought_list        = df_bought['id']\n",
    "prices_bought      = df_bought['price']\n",
    "\n",
    "user_bought_list   = list(df_merge.groupby('uid')['gid'].apply(lambda x: list(set(x))))\n",
    "                                                        "
   ]
  },
  {
   "cell_type": "markdown",
   "metadata": {},
   "source": [
    "### Hit rate\n",
    "\n",
    "Hit rate = был ли хотя бы 1 релевантный товар среди рекомендованных\n",
    "\n",
    "- Иногда применяется, когда продаются достаточно дорогие товары (например, бытовая техника) \n",
    "\n",
    "----\n",
    "Hit rate = (был ли хотя бы 1 релевантный товар среди рекомендованных)   \n",
    "\n",
    "Hit rate@k = (был ли хотя бы 1 релевантный товар среди топ-k рекомендованных)"
   ]
  },
  {
   "cell_type": "code",
   "execution_count": 3,
   "metadata": {},
   "outputs": [],
   "source": [
    "def hit_rate_at_k(recommended_list, bought_list, k=5):\n",
    "    \n",
    "    bought_list = np.array(bought_list)\n",
    "    recommended_list = np.array(recommended_list)[:k]\n",
    "\n",
    "    hit_rate = int(np.isin(bought_list, recommended_list).sum() > 0)\n",
    "    \n",
    "    return hit_rate"
   ]
  },
  {
   "cell_type": "code",
   "execution_count": 4,
   "metadata": {},
   "outputs": [
    {
     "name": "stdout",
     "output_type": "stream",
     "text": [
      "hit rate@5 = 1\n",
      "hit rate@4 = 1\n",
      "hit rate@3 = 0\n"
     ]
    }
   ],
   "source": [
    "for k in [5, 4, 3]:\n",
    "    print(f\"hit rate@{k} = {hit_rate_at_k(recommended_list, bought_list, k)}\")"
   ]
  },
  {
   "cell_type": "markdown",
   "metadata": {},
   "source": [
    "### Precision\n",
    "\n",
    "*Precision* - доля релевантных товаров среди рекомендованных = Какой % рекомендованных товаров  юзер купил\n",
    "\n",
    "- Пожалуй, самая приближенная к бизнес-метрикам и самая популярная метрика\n",
    "\n",
    "---\n",
    "\n",
    "Precision= (# of recommended items that are relevant) / (# of recommended items)  \n",
    "\n",
    "Precision@k = (# of recommended items @k that are relevant) / (# of recommended items @k)\n",
    "\n",
    "Money Precision@k = (revenue of recommended items @k that are relevant) / (revenue of recommended items @k)  \n",
    "\n"
   ]
  },
  {
   "cell_type": "code",
   "execution_count": 5,
   "metadata": {},
   "outputs": [],
   "source": [
    "def money_precision_at_k(recommended_list, bought_list, prices_recommended, k=5):\n",
    "    bought_list = np.array(bought_list)\n",
    "    recommended_list = np.array(recommended_list)[:k]\n",
    "    prices_recommended = np.array(prices_recommended)[:k]\n",
    "    flags = np.isin(recommended_list, bought_list)\n",
    "    \n",
    "    precision = np.dot(flags, prices_recommended).sum() / prices_recommended.sum()\n",
    "    \n",
    "    return precision"
   ]
  },
  {
   "cell_type": "code",
   "execution_count": 6,
   "metadata": {},
   "outputs": [
    {
     "name": "stdout",
     "output_type": "stream",
     "text": [
      "Money precision@5 = 0.667\n",
      "Money precision@4 = 0.182\n",
      "Money precision@3 = 0.000\n"
     ]
    }
   ],
   "source": [
    "for k in [5, 4, 3]:\n",
    "    print(f\"Money precision@{k} = {money_precision_at_k(recommended_list, bought_list, prices_recommended, k):.3f}\")"
   ]
  },
  {
   "cell_type": "markdown",
   "metadata": {},
   "source": [
    "### Recall\n",
    "\n",
    "*Recall* - доля рекомендованных товаров среди релевантных = Какой % купленных товаров был среди рекомендованных\n",
    "\n",
    "- Обычно используется для моделей пре-фильтрации товаров (убрать те товары, которые точно не будем рекомендовать)\n",
    "\n",
    "---\n",
    "\n",
    "Recall= (# of recommended items that are relevant) / (# of relevant items)  \n",
    "\n",
    "Recall@k = (# of recommended items @k that are relevant) / (# of relevant items)\n",
    "\n",
    "Money Recall@k = (revenue of recommended items @k that are relevant) / (revenue of relevant items)  \n",
    "\n",
    "  "
   ]
  },
  {
   "cell_type": "code",
   "execution_count": 7,
   "metadata": {},
   "outputs": [],
   "source": [
    "def recall_at_k(recommended_list, bought_list, k=5):\n",
    "    \n",
    "    bought_list = np.array(bought_list)\n",
    "    recommended_list = np.array(recommended_list)[:k]\n",
    "\n",
    "    recall = np.isin(bought_list, recommended_list).sum() / len(bought_list)\n",
    "\n",
    "    return recall\n",
    "\n",
    "\n",
    "def money_recall_at_k(recommended_list, bought_list, prices_bought, k=5):\n",
    "# prices_recommended здесь не нужен, так как цены все равно берутся только от релевантных (купленных) товаров\n",
    "    bought_list = np.array(bought_list)\n",
    "    recommended_list = np.array(recommended_list)[:k]\n",
    "    prices_bought = np.array(prices_bought)\n",
    "\n",
    "    flags = np.isin(bought_list, recommended_list)\n",
    "\n",
    "    recall = np.dot(flags, prices_bought).sum() / prices_bought.sum()\n",
    "\n",
    "    return recall"
   ]
  },
  {
   "cell_type": "code",
   "execution_count": 8,
   "metadata": {},
   "outputs": [
    {
     "name": "stdout",
     "output_type": "stream",
     "text": [
      "Recall@5 = 0.500\n",
      "Money recall@5 = 0.474\n",
      "Recall@4 = 0.250\n",
      "Money recall@4 = 0.053\n",
      "Recall@3 = 0.000\n",
      "Money recall@3 = 0.000\n"
     ]
    }
   ],
   "source": [
    "for k in [5, 4, 3]:\n",
    "    print(f\"Recall@{k} = {recall_at_k(recommended_list, bought_list, k):.3f}\")\n",
    "    print(f\"Money recall@{k} = {money_recall_at_k(recommended_list, bought_list, prices_bought, k):.3f}\")"
   ]
  },
  {
   "cell_type": "markdown",
   "metadata": {},
   "source": [
    "### MAP@k\n",
    "\n",
    "MAP@k (Mean Average Precision@k)  \n",
    "Среднее AP@k по всем юзерам\n",
    "- Показывает средневзвешенную точность рекомендаций\n",
    "\n",
    "$$MAP@k = \\frac{1}{|U|} \\sum_u{AP_k}$$\n",
    "  \n",
    "|U| - кол-во юзеров"
   ]
  },
  {
   "cell_type": "code",
   "execution_count": 9,
   "metadata": {},
   "outputs": [],
   "source": [
    "def precision_at_k(recommended_list, bought_list, k=5):\n",
    "    bought_list = np.array(bought_list)\n",
    "    recommended_list = np.array(recommended_list)[:k]\n",
    "    return np.isin(bought_list, recommended_list).sum() / len(recommended_list)\n",
    "\n",
    "def ap_at_k_my_fixed(recommended_list, bought_list, k=5): # код скопирован с семинара, с исправлением ошибки (потом заметила новую версию в ДЗ)\n",
    "    \n",
    "    bought_list = np.array(bought_list)\n",
    "    # если мы учитываем top-k рекоммендованных, логично сразу отсекать k, так как это влияет делитель sum(flags) ниже\n",
    "    recommended_list = np.array(recommended_list)[:k]\n",
    "    \n",
    "    flags = np.isin(recommended_list, bought_list)\n",
    "    if sum(flags) == 0:\n",
    "        return 0\n",
    "    \n",
    "    sum_ = 0\n",
    "    for i in range(k): # здесь была ошибка, мы должны учитывать элементы, начиная с 0-го ...\n",
    "        if flags[i]:\n",
    "            p_k = precision_at_k(recommended_list, bought_list, k=i+1) # ... а вот в precision_at_k надо передавать i+1, чтобы и i-й учелся\n",
    "            sum_ += p_k\n",
    "    result = sum_ / sum(flags) # это отличается от формулы в https://habr.com/ru/company/econtenta/blog/303458/\n",
    "    return result\n",
    "\n",
    "def ap_at_k(recommended_list, bought_list, k=5): # взято из страницы с ДЗ\n",
    "    bought_list = np.array(bought_list)\n",
    "    recommended_list = np.array(recommended_list) # кажется, здесь тоже по хорошему надо сразу отсечь k, так как релевантные рекомендации выше k начинают влиять в делителе ниже\n",
    "\n",
    "    relevant_indexes = np.nonzero(np.isin(recommended_list, bought_list))[0]\n",
    "    if len(relevant_indexes) == 0:\n",
    "        return 0\n",
    "    amount_relevant = len(relevant_indexes) \n",
    "\n",
    "    relevant_indexes = relevant_indexes[relevant_indexes <= k]\n",
    "\n",
    "    sum_ = sum([precision_at_k(recommended_list, bought_list, k=index_relevant+1) for index_relevant in relevant_indexes])\n",
    "    return sum_/amount_relevant\n",
    "\n",
    "\n",
    "def map_at_k(recommended_list, bought_list, k=5): # bought_list - список bought_list-ов, например по по всем покупателям\n",
    "    apks = list(map(lambda ul: ap_at_k(recommended_list, ul, k), list(bought_list)))\n",
    "    return np.mean(apks)\n",
    "    "
   ]
  },
  {
   "cell_type": "code",
   "execution_count": 10,
   "metadata": {},
   "outputs": [
    {
     "name": "stdout",
     "output_type": "stream",
     "text": [
      "AP@5 = 0.217\n",
      "MAP@5 = 0.181\n",
      "AP@4 = 0.217\n",
      "MAP@4 = 0.181\n",
      "AP@3 = 0.083\n",
      "MAP@3 = 0.069\n"
     ]
    }
   ],
   "source": [
    "for k in [5, 4, 3]:\n",
    "    print(f\"AP@{k} = {ap_at_k(recommended_list, bought_list, k):.3f}\")\n",
    "    print(f\"MAP@{k} = {map_at_k(recommended_list, user_bought_list, k):.3f}\")"
   ]
  },
  {
   "cell_type": "markdown",
   "metadata": {},
   "source": [
    "### MRR@k\n",
    "Mean Reciprocal Rank\n",
    "\n",
    "- Считаем для первых k рекоммендаций\n",
    "- Найти ранк первого релевантного предсказания $k_u$\n",
    "- Посчитать reciprocal rank = $\\frac{1}{k_u}$\n",
    "\n",
    "$$MRR = mean(\\frac{1}{k_u})$$"
   ]
  },
  {
   "cell_type": "code",
   "execution_count": 11,
   "metadata": {},
   "outputs": [],
   "source": [
    "def reciprocal_rank_at_k(recommended_list, bought_list, k): # добавила параметр k, так как речь идет про RR@k\n",
    "    bought_list = np.array(bought_list)\n",
    "    recommended_list = np.array(recommended_list)[:k]\n",
    "\n",
    "    flags = np.isin(recommended_list, bought_list)\n",
    "    found = np.argwhere(flags)\n",
    "    return 1 / (found[0][0] + 1) if found.shape[0] > 0 else 0 # не найдено - k=inf \n",
    "    \n",
    "\n",
    "def mean_reciprocal_rank_at_k(recommended_list, bought_lists, k):  # bought_list - список bought_list-ов, например по по всем покупателям\n",
    "    apks = list(map(lambda ul: reciprocal_rank_at_k(recommended_list, ul, k), list(bought_list)))\n",
    "    return np.mean(apks)\n"
   ]
  },
  {
   "cell_type": "code",
   "execution_count": 12,
   "metadata": {},
   "outputs": [
    {
     "name": "stdout",
     "output_type": "stream",
     "text": [
      "RR@5 = 0.250\n",
      "MRR@5 = 0.113\n",
      "RR@4 = 0.250\n",
      "MRR@4 = 0.062\n",
      "RR@3 = 0.000\n",
      "MRR@3 = 0.000\n"
     ]
    }
   ],
   "source": [
    "for k in [5, 4, 3]:\n",
    "    print(f\"RR@{k} = {reciprocal_rank_at_k(recommended_list, bought_list, k):.3f}\")\n",
    "    print(f\"MRR@{k} = {mean_reciprocal_rank_at_k(recommended_list, user_bought_list, k):.3f}\")"
   ]
  },
  {
   "cell_type": "code",
   "execution_count": null,
   "metadata": {},
   "outputs": [],
   "source": []
  }
 ],
 "metadata": {
  "kernelspec": {
   "display_name": "Python 3",
   "language": "python",
   "name": "python3"
  },
  "language_info": {
   "codemirror_mode": {
    "name": "ipython",
    "version": 3
   },
   "file_extension": ".py",
   "mimetype": "text/x-python",
   "name": "python",
   "nbconvert_exporter": "python",
   "pygments_lexer": "ipython3",
   "version": "3.7.6"
  }
 },
 "nbformat": 4,
 "nbformat_minor": 4
}
